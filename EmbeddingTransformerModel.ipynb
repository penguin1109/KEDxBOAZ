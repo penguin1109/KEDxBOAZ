{
  "nbformat": 4,
  "nbformat_minor": 0,
  "metadata": {
    "colab": {
      "name": "EmbeddingTransformerModel.ipynb",
      "provenance": [],
      "collapsed_sections": [
        "Dmpz-zo2kB0Q"
      ],
      "machine_shape": "hm",
      "mount_file_id": "1AlT23FjNgyOv_dXAhJD6w2Qmxo4pm6_O",
      "authorship_tag": "ABX9TyPHsYpNwx3DffWmIVeWR9QF",
      "include_colab_link": true
    },
    "kernelspec": {
      "name": "python3",
      "display_name": "Python 3"
    },
    "language_info": {
      "name": "python"
    },
    "accelerator": "GPU"
  },
  "cells": [
    {
      "cell_type": "markdown",
      "metadata": {
        "id": "view-in-github",
        "colab_type": "text"
      },
      "source": [
        "<a href=\"https://colab.research.google.com/github/penguin1109/KEDxBOAZ/blob/master/EmbeddingTransformerModel.ipynb\" target=\"_parent\"><img src=\"https://colab.research.google.com/assets/colab-badge.svg\" alt=\"Open In Colab\"/></a>"
      ]
    },
    {
      "cell_type": "markdown",
      "metadata": {
        "id": "65zgss9Eauut"
      },
      "source": [
        "1. 대분류 학습하고 예측값 도출해 내기\n",
        "2. Embedding Layer및 tensor에 있어서 뭐가 문제인지 파악하기"
      ]
    },
    {
      "cell_type": "markdown",
      "metadata": {
        "id": "8kfoqhjDSC7_"
      },
      "source": [
        "#### 우리의 데이터"
      ]
    },
    {
      "cell_type": "code",
      "metadata": {
        "id": "DOVtMvIySM6G"
      },
      "source": [
        "import numpy as np\n",
        "import pandas as pd\n",
        "import matplotlib.pyplot as plt\n",
        "#from konlpy.tag import Hannanum\n",
        "import tensorflow as tf\n",
        "from tensorflow.keras.layers import Layer\n",
        "from tensorflow.keras.models import Model"
      ],
      "execution_count": 1,
      "outputs": []
    },
    {
      "cell_type": "code",
      "metadata": {
        "id": "Vndq9igzSFxu"
      },
      "source": [
        "import os\n",
        "data_root = '/content/drive/MyDrive/KEDxBOAZMY/DATA/FINALDATA'\n",
        "traindata_route = os.path.join(data_root, 'train_dfC.csv')\n",
        "traindata = pd.read_csv(traindata_route, index_col = 0)"
      ],
      "execution_count": 9,
      "outputs": []
    },
    {
      "cell_type": "code",
      "metadata": {
        "colab": {
          "base_uri": "https://localhost:8080/",
          "height": 204
        },
        "id": "3jEskDGGAH2c",
        "outputId": "21c30b50-8c80-4857-e019-ab40a388192b"
      },
      "source": [
        "traindata.head()"
      ],
      "execution_count": 28,
      "outputs": [
        {
          "output_type": "execute_result",
          "data": {
            "text/html": [
              "<div>\n",
              "<style scoped>\n",
              "    .dataframe tbody tr th:only-of-type {\n",
              "        vertical-align: middle;\n",
              "    }\n",
              "\n",
              "    .dataframe tbody tr th {\n",
              "        vertical-align: top;\n",
              "    }\n",
              "\n",
              "    .dataframe thead th {\n",
              "        text-align: right;\n",
              "    }\n",
              "</style>\n",
              "<table border=\"1\" class=\"dataframe\">\n",
              "  <thead>\n",
              "    <tr style=\"text-align: right;\">\n",
              "      <th></th>\n",
              "      <th>BZ_PPOS_ITM_CTT</th>\n",
              "    </tr>\n",
              "  </thead>\n",
              "  <tbody>\n",
              "    <tr>\n",
              "      <th>G46699</th>\n",
              "      <td>건축자재 소매업 부동산업 주택사업 호에관련된</td>\n",
              "    </tr>\n",
              "    <tr>\n",
              "      <th>C10309</th>\n",
              "      <td>농산물 제조 유통 가공 판매 농작업 전부 일부 대행 농산물 연구사업 인터넷상품중개업...</td>\n",
              "    </tr>\n",
              "    <tr>\n",
              "      <th>A01159</th>\n",
              "      <td>관광농업 농업 공동이용시설 설치 운영 농기계 시설 대여사업 농작업 대행 농산물   ...</td>\n",
              "    </tr>\n",
              "    <tr>\n",
              "      <th>F42201</th>\n",
              "      <td>강화플라스틱 공사업 일반 내산배관자재 밸브 도소매업 발전설비 장비 기자재 도소매업 ...</td>\n",
              "    </tr>\n",
              "    <tr>\n",
              "      <th>G4631</th>\n",
              "      <td>농기계 농약 비료 포장재 기타농자재 공동구입 판매사업 농산물 저장사업 저온창고   ...</td>\n",
              "    </tr>\n",
              "  </tbody>\n",
              "</table>\n",
              "</div>"
            ],
            "text/plain": [
              "                                          BZ_PPOS_ITM_CTT\n",
              "G46699                           건축자재 소매업 부동산업 주택사업 호에관련된\n",
              "C10309  농산물 제조 유통 가공 판매 농작업 전부 일부 대행 농산물 연구사업 인터넷상품중개업...\n",
              "A01159  관광농업 농업 공동이용시설 설치 운영 농기계 시설 대여사업 농작업 대행 농산물   ...\n",
              "F42201  강화플라스틱 공사업 일반 내산배관자재 밸브 도소매업 발전설비 장비 기자재 도소매업 ...\n",
              "G4631   농기계 농약 비료 포장재 기타농자재 공동구입 판매사업 농산물 저장사업 저온창고   ..."
            ]
          },
          "metadata": {
            "tags": []
          },
          "execution_count": 28
        }
      ]
    },
    {
      "cell_type": "markdown",
      "metadata": {
        "id": "DaC0INQsvd9k"
      },
      "source": [
        "#### test data clensing + removestopwords 적용해서 저장하기"
      ]
    },
    {
      "cell_type": "code",
      "metadata": {
        "id": "huDUtMqFvn62"
      },
      "source": [
        "testpath = '/content/drive/MyDrive/KEDxBOAZMY/DATA/FINALDATA/test.csv'\n",
        "testdata = pd.read_csv(testpath, index_col = 0)"
      ],
      "execution_count": 25,
      "outputs": []
    },
    {
      "cell_type": "code",
      "metadata": {
        "colab": {
          "base_uri": "https://localhost:8080/",
          "height": 204
        },
        "id": "SOT6GQV-wBtC",
        "outputId": "2a8f818b-cf93-4c07-b024-58ae2a0ffb5c"
      },
      "source": [
        "testdata.head()"
      ],
      "execution_count": 26,
      "outputs": [
        {
          "output_type": "execute_result",
          "data": {
            "text/html": [
              "<div>\n",
              "<style scoped>\n",
              "    .dataframe tbody tr th:only-of-type {\n",
              "        vertical-align: middle;\n",
              "    }\n",
              "\n",
              "    .dataframe tbody tr th {\n",
              "        vertical-align: top;\n",
              "    }\n",
              "\n",
              "    .dataframe thead th {\n",
              "        text-align: right;\n",
              "    }\n",
              "</style>\n",
              "<table border=\"1\" class=\"dataframe\">\n",
              "  <thead>\n",
              "    <tr style=\"text-align: right;\">\n",
              "      <th></th>\n",
              "      <th>BZ_PPOS_ITM_CTT</th>\n",
              "    </tr>\n",
              "  </thead>\n",
              "  <tbody>\n",
              "    <tr>\n",
              "      <th>7869996</th>\n",
              "      <td>[이동통신기기 도소매업 부동산 임대업 전대업 무역업 부대하 농수산물 판매 수입업 농...</td>\n",
              "    </tr>\n",
              "    <tr>\n",
              "      <th>7865325</th>\n",
              "      <td>[상품중개업 생활용품 특산품 식품 농수산물 무역업 특산품 생활용품 식품 농수산물 유...</td>\n",
              "    </tr>\n",
              "    <tr>\n",
              "      <th>7871662</th>\n",
              "      <td>[화장품 미용용품 수출입업 마케팅 이벤트 행사업 전자상거래업 부동산 임대 전대업 엔...</td>\n",
              "    </tr>\n",
              "    <tr>\n",
              "      <th>7871535</th>\n",
              "      <td>[터널 강지보 제조업 밴딩가공 철구조물 제조업 철구조물 제조 도소매업 철구조물 임대...</td>\n",
              "    </tr>\n",
              "    <tr>\n",
              "      <th>7872703</th>\n",
              "      <td>[전원주택 펜션 임대업 매매업 주택신축 판매업 부동산 임대업 매매업 부동산 개발 분...</td>\n",
              "    </tr>\n",
              "  </tbody>\n",
              "</table>\n",
              "</div>"
            ],
            "text/plain": [
              "                                           BZ_PPOS_ITM_CTT\n",
              "7869996  [이동통신기기 도소매업 부동산 임대업 전대업 무역업 부대하 농수산물 판매 수입업 농...\n",
              "7865325  [상품중개업 생활용품 특산품 식품 농수산물 무역업 특산품 생활용품 식품 농수산물 유...\n",
              "7871662  [화장품 미용용품 수출입업 마케팅 이벤트 행사업 전자상거래업 부동산 임대 전대업 엔...\n",
              "7871535  [터널 강지보 제조업 밴딩가공 철구조물 제조업 철구조물 제조 도소매업 철구조물 임대...\n",
              "7872703  [전원주택 펜션 임대업 매매업 주택신축 판매업 부동산 임대업 매매업 부동산 개발 분..."
            ]
          },
          "metadata": {
            "tags": []
          },
          "execution_count": 26
        }
      ]
    },
    {
      "cell_type": "code",
      "metadata": {
        "id": "3jMp5uZewaSw"
      },
      "source": [
        "!pip install Konlpy"
      ],
      "execution_count": null,
      "outputs": []
    },
    {
      "cell_type": "code",
      "metadata": {
        "id": "6SXMej9swTkB"
      },
      "source": [
        "from konlpy.tag import Hannanum"
      ],
      "execution_count": 8,
      "outputs": []
    },
    {
      "cell_type": "code",
      "metadata": {
        "id": "nk9GowFDwDlp"
      },
      "source": [
        "seqs = []\n",
        "hannanum = Hannanum()\n",
        "for seq in testdata['BZ_PPOS_ITM_CTT']:\n",
        "  seqs.append(hannanum.nouns(seq))"
      ],
      "execution_count": 9,
      "outputs": []
    },
    {
      "cell_type": "code",
      "metadata": {
        "id": "P3Mg6hs4xZxz"
      },
      "source": [
        "testdata['BZ_PPOS_ITM_CTT'] = seqs"
      ],
      "execution_count": 11,
      "outputs": []
    },
    {
      "cell_type": "code",
      "metadata": {
        "id": "773uJ3fqxqX1"
      },
      "source": [
        "seqs[0]"
      ],
      "execution_count": null,
      "outputs": []
    },
    {
      "cell_type": "code",
      "metadata": {
        "id": "IQwMrONhx2fC"
      },
      "source": [
        "def clean_text(data, iscsv = True):\n",
        "    #hannanum = Hannanum()\n",
        "    result = []\n",
        "    # 무조건 문자열로 바꾸어주는 astype(str)\n",
        "    if iscsv == True:\n",
        "      data = data['BZ_PPOS_ITM_CTT'].astype(str)\n",
        "    else:\n",
        "      data = data.astype(str)\n",
        "    import re\n",
        "    FILTERS = \"([~.,!?\\\"':;)(])\" \n",
        "    \n",
        "    # 최종적으로 특수 문자를 모두 제거\n",
        "    \n",
        "    CHANGE_FILTER = re.compile(FILTERS)\n",
        "    for sentence in data:\n",
        "        sentence = re.sub(CHANGE_FILTER, \"\", sentence)\n",
        "        #sentence = hannanum.nouns(sentence)\n",
        "        result.append(sentence)\n",
        "        \n",
        "    return pd.DataFrame(data = result, index = data.index.values, columns = ['BZ_PPOS_ITM_CTT'])"
      ],
      "execution_count": 14,
      "outputs": []
    },
    {
      "cell_type": "code",
      "metadata": {
        "id": "0J5hU6M5xjCF"
      },
      "source": [
        "df = clean_text(testdata)"
      ],
      "execution_count": 15,
      "outputs": []
    },
    {
      "cell_type": "code",
      "metadata": {
        "id": "Niwi7Bsqx9YE"
      },
      "source": [
        "df.to_csv(testpath)"
      ],
      "execution_count": 17,
      "outputs": []
    },
    {
      "cell_type": "code",
      "metadata": {
        "id": "bHdBH1heAXbU"
      },
      "source": [
        "#!pip install konlpy\n",
        "from konlpy.tag import Hannanum\n",
        "hannanum = Hannanum()\n",
        "hannanum.nouns(traindata['BZ_PPOS_ITM_CTT'][1])"
      ],
      "execution_count": null,
      "outputs": []
    },
    {
      "cell_type": "code",
      "metadata": {
        "colab": {
          "base_uri": "https://localhost:8080/"
        },
        "id": "vaoPld7yBa7O",
        "outputId": "d8e3bf66-6591-4b86-b685-40c18a76ef11"
      },
      "source": [
        "import re\n",
        "FILTERS = \"([~.,!?\\\"':;)(])\" \n",
        "CHANGE_FILTER = re.compile(FILTERS)\n",
        "    \n",
        "\n",
        "sentence = re.sub(CHANGE_FILTER, \"\", traindata['BZ_PPOS_ITM_CTT'][100])\n",
        "#sentence = mecab.morphs(sentence)\n",
        "sentence = hannanum.nouns(sentence)\n",
        "print(sentence)\n",
        "        "
      ],
      "execution_count": null,
      "outputs": [
        {
          "output_type": "stream",
          "text": [
            "['도소매업중', '조경수판매업', '도소매업중', '조경시설물', '판매업', '부동산', '임대업', '서비스업중', '조경설계', '사업', '건설업중', '조경식재공사업', '건설업중', '조경시설물설치공사업', '건설업중', '석공사업', '건설업중', '철근콘크리트공사업', '종합건설업중', '토목건축공사업', '종합건설업중', '토목공사업', '종합건설업중', '조경공사업', '도소매업중', '초화', '판매업', '조경자재', '우두칩', '판매업', '도소매업중', '야자매트판매업']\n"
          ],
          "name": "stdout"
        }
      ]
    },
    {
      "cell_type": "code",
      "metadata": {
        "id": "6dsVRKy_yOqw"
      },
      "source": [
        "def remove_stopwords(data, path, iscsv):\n",
        "  import numpy as np\n",
        "  import pandas as pd\n",
        "  \"\"\"\n",
        "  data -> DataFrame 형태로 입력\n",
        "  path ->  stopwords의 저장경로\n",
        "  \"\"\"\n",
        "  stopwords = pd.read_excel(path)\n",
        "  stopwords = np.array(stopwords['불용어'])\n",
        "  result = []\n",
        "  \"\"\"\n",
        "    stopwords는 불용어들을 담은 리스트를 입력\n",
        "    data는 역시나 dataframe의 형태로 입력될 것이며\n",
        "    모든 행에 대해서 data['BZ_PPOS_ITM_CTT']의 단어들 중에서 stopword에 포함되어 있으면 제거\n",
        "    \n",
        "    최종적으로 불용어를 제거한 문자열들을 담은 result 리스트를 return\n",
        "  \"\"\"\n",
        "  for seq in data['BZ_PPOS_ITM_CTT'].astype(str):\n",
        "    curr = ''\n",
        "    seq = seq.split(' ')\n",
        "    for word in seq:\n",
        "      if len(word) == 1:\n",
        "        continue\n",
        "      elif word in stopwords:\n",
        "        continue\n",
        "      else:\n",
        "        curr += ' ' +word\n",
        "    if curr == '':\n",
        "      result.append('EMPTY')\n",
        "    else:\n",
        "      result.append(curr.strip())\n",
        "    \n",
        "  return pd.DataFrame(data = result, index = data.index.values, columns = ['BZ_PPOS_ITM_CTT'])"
      ],
      "execution_count": 20,
      "outputs": []
    },
    {
      "cell_type": "code",
      "metadata": {
        "id": "lIleN_k9yP8g"
      },
      "source": [
        "df = remove_stopwords(testdata,  \"/content/drive/MyDrive/KEDxBOAZ/stopwords_2.xlsx\", True)"
      ],
      "execution_count": 22,
      "outputs": []
    },
    {
      "cell_type": "code",
      "metadata": {
        "id": "uwk3nVEQyaK9"
      },
      "source": [
        "df.to_csv(testpath)"
      ],
      "execution_count": 24,
      "outputs": []
    },
    {
      "cell_type": "code",
      "metadata": {
        "id": "b_dIFd8tAk_i"
      },
      "source": [
        "traindata = traindata.dropna(inplace = True, subset = [traindata.index.values])\n",
        "traindata.to_csv(traindata_route, index_col = False)"
      ],
      "execution_count": null,
      "outputs": []
    },
    {
      "cell_type": "code",
      "metadata": {
        "id": "Evii-aATTdrs"
      },
      "source": [
        "data = preprocess_all(traindata, True)"
      ],
      "execution_count": null,
      "outputs": []
    },
    {
      "cell_type": "code",
      "metadata": {
        "id": "yd6deLFXU6xi"
      },
      "source": [
        "data.to_csv(traindata_route, index_label= False)"
      ],
      "execution_count": null,
      "outputs": []
    },
    {
      "cell_type": "code",
      "metadata": {
        "id": "JaxnLmdubQV4"
      },
      "source": [
        "data = remove_stopwords(data, \"/content/drive/MyDrive/KEDxBOAZ/stopwords.xlsx\", iscsv = False)"
      ],
      "execution_count": null,
      "outputs": []
    },
    {
      "cell_type": "code",
      "metadata": {
        "id": "kvQm-NOOgtMs"
      },
      "source": [
        "!pip install Konlpy"
      ],
      "execution_count": null,
      "outputs": []
    },
    {
      "cell_type": "code",
      "metadata": {
        "id": "-jihq_qGf0BF"
      },
      "source": [
        "data = clean_text(data, iscsv = True)"
      ],
      "execution_count": null,
      "outputs": []
    },
    {
      "cell_type": "code",
      "metadata": {
        "colab": {
          "base_uri": "https://localhost:8080/",
          "height": 419
        },
        "id": "opsKLcxOcI0h",
        "outputId": "c7819360-2ed4-4e77-c6af-5a43d00700eb"
      },
      "source": [
        "data"
      ],
      "execution_count": null,
      "outputs": [
        {
          "output_type": "execute_result",
          "data": {
            "text/html": [
              "<div>\n",
              "<style scoped>\n",
              "    .dataframe tbody tr th:only-of-type {\n",
              "        vertical-align: middle;\n",
              "    }\n",
              "\n",
              "    .dataframe tbody tr th {\n",
              "        vertical-align: top;\n",
              "    }\n",
              "\n",
              "    .dataframe thead th {\n",
              "        text-align: right;\n",
              "    }\n",
              "</style>\n",
              "<table border=\"1\" class=\"dataframe\">\n",
              "  <thead>\n",
              "    <tr style=\"text-align: right;\">\n",
              "      <th></th>\n",
              "      <th>BZ_PPOS_ITM_CTT</th>\n",
              "    </tr>\n",
              "  </thead>\n",
              "  <tbody>\n",
              "    <tr>\n",
              "      <th>G46699</th>\n",
              "      <td>건축자재 소매 부동산 주택사 호에관련된</td>\n",
              "    </tr>\n",
              "    <tr>\n",
              "      <th>C10309</th>\n",
              "      <td>농산물의 제조 유통 가공 판매 농작업의 전부 일부 대행 농산물 연구사 인터넷상품중개...</td>\n",
              "    </tr>\n",
              "    <tr>\n",
              "      <th>A01159</th>\n",
              "      <td>관광농 농업에 공동이용시설의 설치 운영 농기계 시설의 대여사 농작업의 대행 농산물의...</td>\n",
              "    </tr>\n",
              "    <tr>\n",
              "      <th>F42201</th>\n",
              "      <td>강화플라스틱 공사 일반 내산배관자재 필터 밸브 도소매 발전설비 장비 기자재 도소매 ...</td>\n",
              "    </tr>\n",
              "    <tr>\n",
              "      <th>G4631</th>\n",
              "      <td>농기계 농약 비료 포장재 기타농자재의 공동구입 판매사 농산물 저장사 저온창고 농기계...</td>\n",
              "    </tr>\n",
              "    <tr>\n",
              "      <th>...</th>\n",
              "      <td>...</td>\n",
              "    </tr>\n",
              "    <tr>\n",
              "      <th>M72111</th>\n",
              "      <td>하수도법에 기술진단전문기관 하수도법에 관리대행 하수도법에 개인하수처리시설 설계 시공...</td>\n",
              "    </tr>\n",
              "    <tr>\n",
              "      <th>J58221</th>\n",
              "      <td>소프트웨어 개발 공급 정보서비스 온라인정보 제공 부가통신정보통신 서비스 솔루션개발 ...</td>\n",
              "    </tr>\n",
              "    <tr>\n",
              "      <th>G46315</th>\n",
              "      <td>수산물 제조 수출입 수산물 유통 판매 수출입 대행</td>\n",
              "    </tr>\n",
              "    <tr>\n",
              "      <th>G46413</th>\n",
              "      <td>스포츠 의류 제조 도소매 수출입 스포츠 용품 제조 도소매 수출입 의류 제조 도소매 ...</td>\n",
              "    </tr>\n",
              "    <tr>\n",
              "      <th>C22241</th>\n",
              "      <td>푸라스틱 제품 제조 금형제조 부동산 임대 프라스틱제품용원부재료 판매 무역 수출알선</td>\n",
              "    </tr>\n",
              "  </tbody>\n",
              "</table>\n",
              "<p>1777846 rows × 1 columns</p>\n",
              "</div>"
            ],
            "text/plain": [
              "                                          BZ_PPOS_ITM_CTT\n",
              "G46699                              건축자재 소매 부동산 주택사 호에관련된\n",
              "C10309  농산물의 제조 유통 가공 판매 농작업의 전부 일부 대행 농산물 연구사 인터넷상품중개...\n",
              "A01159  관광농 농업에 공동이용시설의 설치 운영 농기계 시설의 대여사 농작업의 대행 농산물의...\n",
              "F42201  강화플라스틱 공사 일반 내산배관자재 필터 밸브 도소매 발전설비 장비 기자재 도소매 ...\n",
              "G4631   농기계 농약 비료 포장재 기타농자재의 공동구입 판매사 농산물 저장사 저온창고 농기계...\n",
              "...                                                   ...\n",
              "M72111  하수도법에 기술진단전문기관 하수도법에 관리대행 하수도법에 개인하수처리시설 설계 시공...\n",
              "J58221  소프트웨어 개발 공급 정보서비스 온라인정보 제공 부가통신정보통신 서비스 솔루션개발 ...\n",
              "G46315                        수산물 제조 수출입 수산물 유통 판매 수출입 대행\n",
              "G46413  스포츠 의류 제조 도소매 수출입 스포츠 용품 제조 도소매 수출입 의류 제조 도소매 ...\n",
              "C22241      푸라스틱 제품 제조 금형제조 부동산 임대 프라스틱제품용원부재료 판매 무역 수출알선\n",
              "\n",
              "[1777846 rows x 1 columns]"
            ]
          },
          "metadata": {
            "tags": []
          },
          "execution_count": 53
        }
      ]
    },
    {
      "cell_type": "code",
      "metadata": {
        "id": "UDwowb8rTO4f"
      },
      "source": [
        "def remove_stopwords(data, path, iscsv):\n",
        "  import numpy as np\n",
        "  import pandas as pd\n",
        "  \"\"\"\n",
        "  data -> DataFrame 형태로 입력\n",
        "  path ->  stopwords의 저장경로\n",
        "  \"\"\"\n",
        "  stopwords = pd.read_excel(path)\n",
        "  stopwords = np.array(stopwords['불용어'])\n",
        "  result = []\n",
        "  \"\"\"\n",
        "    stopwords는 불용어들을 담은 리스트를 입력\n",
        "    data는 역시나 dataframe의 형태로 입력될 것이며\n",
        "    모든 행에 대해서 data['BZ_PPOS_ITM_CTT']의 단어들 중에서 stopword에 포함되어 있으면 제거\n",
        "    \n",
        "    최종적으로 불용어를 제거한 문자열들을 담은 result 리스트를 return\n",
        "  \"\"\"\n",
        "  \n",
        "  for seq in data['BZ_PPOS_ITM_CTT'].astype(str):\n",
        "    curr = ''\n",
        "    seq = seq.split(' ')\n",
        "    for word in seq:\n",
        "      if len(word) == 1:\n",
        "        continue\n",
        "      elif word in stopwords:\n",
        "        continue\n",
        "      else:\n",
        "        curr += ' ' +word\n",
        "    if curr == '':\n",
        "      result.append('EMPTY')\n",
        "    else:\n",
        "      result.append(curr.strip())\n",
        "    \n",
        "  return pd.DataFrame(data = result, index = data.index.values, columns = ['BZ_PPOS_ITM_CTT'])"
      ],
      "execution_count": null,
      "outputs": []
    },
    {
      "cell_type": "code",
      "metadata": {
        "id": "fGW2Uy9b47sj"
      },
      "source": [
        "traindf = remove_stopwords(traindata,  \"/content/drive/MyDrive/KEDxBOAZ/stopwords_2.xlsx\", True)"
      ],
      "execution_count": null,
      "outputs": []
    },
    {
      "cell_type": "code",
      "metadata": {
        "colab": {
          "base_uri": "https://localhost:8080/",
          "height": 204
        },
        "id": "yYBkcydk9Oad",
        "outputId": "70dd6218-fbff-4f9f-93f3-06660e5ac6d7"
      },
      "source": [
        "traindf.head()"
      ],
      "execution_count": null,
      "outputs": [
        {
          "output_type": "execute_result",
          "data": {
            "text/html": [
              "<div>\n",
              "<style scoped>\n",
              "    .dataframe tbody tr th:only-of-type {\n",
              "        vertical-align: middle;\n",
              "    }\n",
              "\n",
              "    .dataframe tbody tr th {\n",
              "        vertical-align: top;\n",
              "    }\n",
              "\n",
              "    .dataframe thead th {\n",
              "        text-align: right;\n",
              "    }\n",
              "</style>\n",
              "<table border=\"1\" class=\"dataframe\">\n",
              "  <thead>\n",
              "    <tr style=\"text-align: right;\">\n",
              "      <th></th>\n",
              "      <th>BZ_PPOS_ITM_CTT</th>\n",
              "    </tr>\n",
              "  </thead>\n",
              "  <tbody>\n",
              "    <tr>\n",
              "      <th>G46699</th>\n",
              "      <td>건축자재 소매업 부동산업 주택사업 호에관련된</td>\n",
              "    </tr>\n",
              "    <tr>\n",
              "      <th>C10309</th>\n",
              "      <td>농산물 제조 유통 가공 판매 농작업 전부 일부 대행 농산물 연구사업 인터넷상품중개업...</td>\n",
              "    </tr>\n",
              "    <tr>\n",
              "      <th>A01159</th>\n",
              "      <td>관광농업 농업 공동이용시설 설치 운영 농기계 시설 대여사업 농작업 대행 농산물   ...</td>\n",
              "    </tr>\n",
              "    <tr>\n",
              "      <th>F42201</th>\n",
              "      <td>강화플라스틱 공사업 일반 내산배관자재 밸브 도소매업 발전설비 장비 기자재 도소매업 ...</td>\n",
              "    </tr>\n",
              "    <tr>\n",
              "      <th>G4631</th>\n",
              "      <td>농기계 농약 비료 포장재 기타농자재 공동구입 판매사업 농산물 저장사업 저온창고   ...</td>\n",
              "    </tr>\n",
              "  </tbody>\n",
              "</table>\n",
              "</div>"
            ],
            "text/plain": [
              "                                          BZ_PPOS_ITM_CTT\n",
              "G46699                           건축자재 소매업 부동산업 주택사업 호에관련된\n",
              "C10309  농산물 제조 유통 가공 판매 농작업 전부 일부 대행 농산물 연구사업 인터넷상품중개업...\n",
              "A01159  관광농업 농업 공동이용시설 설치 운영 농기계 시설 대여사업 농작업 대행 농산물   ...\n",
              "F42201  강화플라스틱 공사업 일반 내산배관자재 밸브 도소매업 발전설비 장비 기자재 도소매업 ...\n",
              "G4631   농기계 농약 비료 포장재 기타농자재 공동구입 판매사업 농산물 저장사업 저온창고   ..."
            ]
          },
          "metadata": {
            "tags": []
          },
          "execution_count": 6
        }
      ]
    },
    {
      "cell_type": "code",
      "metadata": {
        "id": "zYJcqfNh9Hn2"
      },
      "source": [
        "newdf = traindf['BZ_PPOS_ITM_CTT'].replace('EMPTY', np.nan, regex = True)"
      ],
      "execution_count": null,
      "outputs": []
    },
    {
      "cell_type": "code",
      "metadata": {
        "id": "IqzbYrvn-RaB"
      },
      "source": [
        "traindf['BZ_PPOS_ITM_CTT'] = newdf"
      ],
      "execution_count": null,
      "outputs": []
    },
    {
      "cell_type": "code",
      "metadata": {
        "id": "gev0Fxo3-F8r"
      },
      "source": [
        "finaldf = traindf.dropna(axis = 0)"
      ],
      "execution_count": null,
      "outputs": []
    },
    {
      "cell_type": "code",
      "metadata": {
        "colab": {
          "base_uri": "https://localhost:8080/"
        },
        "id": "uoany_yN-ZNw",
        "outputId": "bd8f4791-187c-47e4-9ec9-bb1cb24182f1"
      },
      "source": [
        "len(finaldf)"
      ],
      "execution_count": null,
      "outputs": [
        {
          "output_type": "execute_result",
          "data": {
            "text/plain": [
              "1766017"
            ]
          },
          "metadata": {
            "tags": []
          },
          "execution_count": 20
        }
      ]
    },
    {
      "cell_type": "code",
      "metadata": {
        "id": "49h8MSmg-zS9"
      },
      "source": [
        "finaldf.to_csv(traindata_route)"
      ],
      "execution_count": null,
      "outputs": []
    },
    {
      "cell_type": "code",
      "metadata": {
        "colab": {
          "base_uri": "https://localhost:8080/",
          "height": 204
        },
        "id": "_lEsHCsp_HdG",
        "outputId": "71d2c884-dfac-4d3a-a6d0-1add0443d40b"
      },
      "source": [
        "finaldf.head()"
      ],
      "execution_count": null,
      "outputs": [
        {
          "output_type": "execute_result",
          "data": {
            "text/html": [
              "<div>\n",
              "<style scoped>\n",
              "    .dataframe tbody tr th:only-of-type {\n",
              "        vertical-align: middle;\n",
              "    }\n",
              "\n",
              "    .dataframe tbody tr th {\n",
              "        vertical-align: top;\n",
              "    }\n",
              "\n",
              "    .dataframe thead th {\n",
              "        text-align: right;\n",
              "    }\n",
              "</style>\n",
              "<table border=\"1\" class=\"dataframe\">\n",
              "  <thead>\n",
              "    <tr style=\"text-align: right;\">\n",
              "      <th></th>\n",
              "      <th>BZ_PPOS_ITM_CTT</th>\n",
              "    </tr>\n",
              "  </thead>\n",
              "  <tbody>\n",
              "    <tr>\n",
              "      <th>G46699</th>\n",
              "      <td>건축자재 소매업 부동산업 주택사업 호에관련된</td>\n",
              "    </tr>\n",
              "    <tr>\n",
              "      <th>C10309</th>\n",
              "      <td>농산물 제조 유통 가공 판매 농작업 전부 일부 대행 농산물 연구사업 인터넷상품중개업...</td>\n",
              "    </tr>\n",
              "    <tr>\n",
              "      <th>A01159</th>\n",
              "      <td>관광농업 농업 공동이용시설 설치 운영 농기계 시설 대여사업 농작업 대행 농산물   ...</td>\n",
              "    </tr>\n",
              "    <tr>\n",
              "      <th>F42201</th>\n",
              "      <td>강화플라스틱 공사업 일반 내산배관자재 밸브 도소매업 발전설비 장비 기자재 도소매업 ...</td>\n",
              "    </tr>\n",
              "    <tr>\n",
              "      <th>G4631</th>\n",
              "      <td>농기계 농약 비료 포장재 기타농자재 공동구입 판매사업 농산물 저장사업 저온창고   ...</td>\n",
              "    </tr>\n",
              "  </tbody>\n",
              "</table>\n",
              "</div>"
            ],
            "text/plain": [
              "                                          BZ_PPOS_ITM_CTT\n",
              "G46699                           건축자재 소매업 부동산업 주택사업 호에관련된\n",
              "C10309  농산물 제조 유통 가공 판매 농작업 전부 일부 대행 농산물 연구사업 인터넷상품중개업...\n",
              "A01159  관광농업 농업 공동이용시설 설치 운영 농기계 시설 대여사업 농작업 대행 농산물   ...\n",
              "F42201  강화플라스틱 공사업 일반 내산배관자재 밸브 도소매업 발전설비 장비 기자재 도소매업 ...\n",
              "G4631   농기계 농약 비료 포장재 기타농자재 공동구입 판매사업 농산물 저장사업 저온창고   ..."
            ]
          },
          "metadata": {
            "tags": []
          },
          "execution_count": 21
        }
      ]
    },
    {
      "cell_type": "code",
      "metadata": {
        "id": "ANDmmvETSi7U"
      },
      "source": [
        "def clean_text(data, iscsv = True):\n",
        "  hannanum = Hannanum()\n",
        "  result = []\n",
        "    # 무조건 문자열로 바꾸어주는 astype(str)\n",
        "  if iscsv == True:\n",
        "    data = data['BZ_PPOS_ITM_CTT'].astype(str)\n",
        "  else:\n",
        "    data = data.astype(str)\n",
        "  import re\n",
        "  FILTERS = \"([~.,!?\\\"':;)(])\" \n",
        "    \n",
        "    # 최종적으로 특수 문자를 모두 제거\n",
        "    # 명사만 추출\n",
        "    \n",
        "  CHANGE_FILTER = re.compile(FILTERS)\n",
        "    \n",
        "  for sentence in data:\n",
        "    sentence = re.sub(CHANGE_FILTER, \"\", sentence)\n",
        "    #sentence = mecab.morphs(sentence)\n",
        "    sentence = hannanum.nouns(sentence)\n",
        "    result.append(sentence)\n",
        "        \n",
        "  return pd.DataFrame(data = result, index = data.index.values, columns = ['BZ_PPOS_ITM_CTT'])"
      ],
      "execution_count": null,
      "outputs": []
    },
    {
      "cell_type": "code",
      "metadata": {
        "id": "xRTnKIYlTVtZ"
      },
      "source": [
        "def preprocess_all(data, iscsv = True):\n",
        "  \"\"\"\n",
        "  data를 csv형태, 혹은 array의 형태로 입력 받아서 cleansing을 진행한 후에 \n",
        "  result라는 문자열이 담긴 array로 한꺼번에 변환\n",
        "  미리 만들어둔 clean_text와 remove_stopwords 함수를 사용\n",
        "  \"\"\"\n",
        "\n",
        "  if iscsv == True:\n",
        "    # 특수 문자 제거\n",
        "    data = clean_text(data)\n",
        "    # 불용어 제거\n",
        "    data = remove_stopwords(data, \"/content/drive/MyDrive/KEDxBOAZ/stopwords.xlsx\", iscsv = False)\n",
        "  else:\n",
        "    data = clean_text(data, iscsv = False)\n",
        "    data = remove_stopwords(data, \"/content/drive/MyDrive/KEDxBOAZ/stopwords.xlsx\", iscsv = False)\n",
        "  return data"
      ],
      "execution_count": null,
      "outputs": []
    },
    {
      "cell_type": "code",
      "metadata": {
        "id": "_1BTqdrgUHaT"
      },
      "source": [
        "def data_tokenizing(data, length, code, all = True):\n",
        "    \"\"\"\n",
        "    data -> dataframe의 형태\n",
        "    length -> int\n",
        "    length 매개변수는 최대 사용할 문자열의 길이의 설정을 위해서이다.\n",
        "    code 매개변수는 대/중/소/세/세세 분류 중에 어떤 것을 예측할지 설정해 주는 용도이다.\n",
        "    \"\"\"\n",
        "    CODE = {'대분류' : 1, '중분류' : 3, '소분류' : 4, '세분류' : 5}\n",
        "\n",
        "    from keras.preprocessing.text import Tokenizer\n",
        "    from keras.preprocessing.sequence import pad_sequences\n",
        "    \n",
        "    tokenizer = Tokenizer()\n",
        "    tokenizer.fit_on_texts(data['BZ_PPOS_ITM_CTT'].astype(str))\n",
        "    \n",
        "    train_seq = tokenizer.texts_to_sequences(data['BZ_PPOS_ITM_CTT'].astype(str))\n",
        "    word_vocab = tokenizer.word_index\n",
        "    \n",
        "    MAX_SEQ_LENGTH = length # 사용할 문자열의 최대 길이\n",
        "    \n",
        "    train_inputs = pad_sequences(train_seq, maxlen = MAX_SEQ_LENGTH, padding = 'pre')\n",
        "    \n",
        "    #from sklearn.preprocessing import LabelEncoder\n",
        "\n",
        "    #encoder = LabelEncoder()\n",
        "    label_size = CODE[code]\n",
        "    if all == True:\n",
        "      train_labels = np.array(list(map(lambda x : str(x)[:label_size], data.index.values)))\n",
        "    else:\n",
        "      if code == '중분류':\n",
        "        train_labels = np.array(list(map(lambda x: str(x)[1:3]), data.index.values))\n",
        "      elif code == '소분류':\n",
        "        train_labels = np.array(list(map(lambda x: str(x)[3]), data.index.values))\n",
        "      elif code == '세분류':\n",
        "        train_labels = np.array(list(map(lambda x: str(x)[4], data.index.values)))\n",
        "\n",
        "    #encoder.fit(train_labels)\n",
        "    #train_labels = np.array(encoder.transform(train_labels))\n",
        "    \n",
        "    # 데이터의 정보를 담고 있는 dictionary형의 자료\n",
        "    data_configs = {} \n",
        "    data_configs['vocab'], data_configs['vocab_size'] = word_vocab, len(word_vocab)+1\n",
        "    \n",
        "    \"\"\"\n",
        "    train_inputs -> 토큰화가 진행되고 padding 또한 진행된 데이터를 반환\n",
        "    -> 모델에 입력할 수 있는 형태\n",
        "    train_labels -> 수치형 데이터로 예측해야하는 업종 코드를 반환 (One-Hot Encoding된 형태로 반환 -> 모델에서 categorical_crossentropy로 학습 시킬 수 있도록)\n",
        "    data_configs -> 단어 사전과 단어의 총 개수를 dictionary의 형태로 입력된 데이터를 반환\n",
        "    \"\"\"\n",
        "    from sklearn.preprocessing import OneHotEncoder\n",
        "    enc = OneHotEncoder(sparse = False)\n",
        "    train_labels = enc.fit_transform(train_labels.reshape(-1, 1))\n",
        "    data_configs['raw_labels'] = enc.categories_\n",
        "    \n",
        "    return train_inputs, train_labels, data_configs"
      ],
      "execution_count": 10,
      "outputs": []
    },
    {
      "cell_type": "code",
      "metadata": {
        "colab": {
          "base_uri": "https://localhost:8080/"
        },
        "id": "pJkwwEuO4G3Y",
        "outputId": "93abac7e-4d5e-421a-9723-241a8f5f7e89"
      },
      "source": [
        "np.asarray(train_inputs)"
      ],
      "execution_count": 31,
      "outputs": [
        {
          "output_type": "execute_result",
          "data": {
            "text/plain": [
              "array([[     0,      0,      0, ...,    535,    874,  10362],\n",
              "       [     0,      0,      0, ...,     18,    804,   1435],\n",
              "       [     0,      0,      0, ...,    807,   6749, 112032],\n",
              "       ...,\n",
              "       [     0,      0,      0, ...,      1,     60,     17],\n",
              "       [     0,      0,      0, ...,    390,   2694,    257],\n",
              "       [     0,      0,      0, ...,      1,     12,  14717]], dtype=int32)"
            ]
          },
          "metadata": {
            "tags": []
          },
          "execution_count": 31
        }
      ]
    },
    {
      "cell_type": "code",
      "metadata": {
        "id": "W6Gr5TGy-rjd"
      },
      "source": [
        "train_inputs, train_labels, data_configs = data_tokenizing(traindata, 30,'중분류')"
      ],
      "execution_count": 11,
      "outputs": []
    },
    {
      "cell_type": "code",
      "metadata": {
        "id": "s1zzVwZA3q6P"
      },
      "source": [
        "train_inputs, train_labels = np.asarray(train_inputs), np.asarray(train_labels)"
      ],
      "execution_count": 25,
      "outputs": []
    },
    {
      "cell_type": "code",
      "metadata": {
        "id": "Z_dB_2T4VvMp"
      },
      "source": [
        "worded = list(map(lambda x: x.split(' '), traindata['BZ_PPOS_ITM_CTT'].astype(str)))\n",
        "word_counted = list(map(lambda x:len(x), worded))"
      ],
      "execution_count": null,
      "outputs": []
    },
    {
      "cell_type": "code",
      "metadata": {
        "colab": {
          "base_uri": "https://localhost:8080/"
        },
        "id": "fXKCEtVNqGnr",
        "outputId": "1ffb540b-d4d8-44ee-f3ea-22458ce10351"
      },
      "source": [
        "len(worded[0])"
      ],
      "execution_count": null,
      "outputs": [
        {
          "output_type": "execute_result",
          "data": {
            "text/plain": [
              "5"
            ]
          },
          "metadata": {
            "tags": []
          },
          "execution_count": 14
        }
      ]
    },
    {
      "cell_type": "code",
      "metadata": {
        "colab": {
          "base_uri": "https://localhost:8080/"
        },
        "id": "lUDfWm5bqKrL",
        "outputId": "05b009d2-d628-4469-c2e2-f27007e378af"
      },
      "source": [
        "word_counted[0]"
      ],
      "execution_count": null,
      "outputs": [
        {
          "output_type": "execute_result",
          "data": {
            "text/plain": [
              "5"
            ]
          },
          "metadata": {
            "tags": []
          },
          "execution_count": 15
        }
      ]
    },
    {
      "cell_type": "code",
      "metadata": {
        "colab": {
          "base_uri": "https://localhost:8080/"
        },
        "id": "B1vzTBYtqAfo",
        "outputId": "5dbb9495-6a57-4f62-8142-178bd875c11c"
      },
      "source": [
        "np.mean(word_counted)"
      ],
      "execution_count": null,
      "outputs": [
        {
          "output_type": "execute_result",
          "data": {
            "text/plain": [
              "24.421345321137906"
            ]
          },
          "metadata": {
            "tags": []
          },
          "execution_count": 12
        }
      ]
    },
    {
      "cell_type": "code",
      "metadata": {
        "colab": {
          "base_uri": "https://localhost:8080/"
        },
        "id": "46Jw2btVA720",
        "outputId": "4768efd2-c32e-4cc6-af41-3dfd134e0059"
      },
      "source": [
        "data_configs['vocab_size']"
      ],
      "execution_count": 8,
      "outputs": [
        {
          "output_type": "execute_result",
          "data": {
            "text/plain": [
              "1093162"
            ]
          },
          "metadata": {
            "tags": []
          },
          "execution_count": 8
        }
      ]
    },
    {
      "cell_type": "code",
      "metadata": {
        "id": "aKfQjOKJBYoW",
        "colab": {
          "base_uri": "https://localhost:8080/"
        },
        "outputId": "d3f012d7-250a-4280-9a90-14aa872862ec"
      },
      "source": [
        "data_configs['vocab']"
      ],
      "execution_count": 9,
      "outputs": [
        {
          "output_type": "execute_result",
          "data": {
            "text/plain": [
              "{'판매업': 1,\n",
              " '도소매업': 2,\n",
              " '부동산': 3,\n",
              " '제조': 4,\n",
              " '제조업': 5,\n",
              " '임대업': 6,\n",
              " '개발': 7,\n",
              " '공사업': 8,\n",
              " '서비스업': 9,\n",
              " '판매': 10,\n",
              " '수출입업': 11,\n",
              " '무역업': 12,\n",
              " '제작': 13,\n",
              " '컨설팅업': 14,\n",
              " '소프트웨어': 15,\n",
              " '유통업': 16,\n",
              " '대행업': 17,\n",
              " '전자상거래업': 18,\n",
              " '도소매': 19,\n",
              " '통신판매업': 20,\n",
              " '임대': 21,\n",
              " '운영': 22,\n",
              " '공급업': 23,\n",
              " '가공': 24,\n",
              " '운영업': 25,\n",
              " '동산': 26,\n",
              " '인터넷': 27,\n",
              " '관리업': 28,\n",
              " '유통': 29,\n",
              " '설치': 30,\n",
              " '개발업': 31,\n",
              " '매매업': 32,\n",
              " '컴퓨터': 33,\n",
              " '소매업': 34,\n",
              " '컨설팅': 35,\n",
              " '용역업': 36,\n",
              " '농산물': 37,\n",
              " '생산': 38,\n",
              " '자동차': 39,\n",
              " '관리': 40,\n",
              " '의류': 41,\n",
              " '부동산임대업': 42,\n",
              " '화장품': 43,\n",
              " '제작업': 44,\n",
              " '전자상거래': 45,\n",
              " '서비스': 46,\n",
              " '중개업': 47,\n",
              " '건설업': 48,\n",
              " '제품': 49,\n",
              " '도매업': 50,\n",
              " '건축자재': 51,\n",
              " '잡화': 52,\n",
              " '교육': 53,\n",
              " '식품': 54,\n",
              " '대행': 55,\n",
              " '전기': 56,\n",
              " '설계': 57,\n",
              " '온라인': 58,\n",
              " '장비': 59,\n",
              " '수출입': 60,\n",
              " '광고': 61,\n",
              " '자문': 62,\n",
              " '분양': 63,\n",
              " '기획': 64,\n",
              " '경영': 65,\n",
              " '시스템': 66,\n",
              " '알선업': 67,\n",
              " '시설': 68,\n",
              " '국내외': 69,\n",
              " '연구': 70,\n",
              " '건축공사업': 71,\n",
              " '시공업': 72,\n",
              " '운송사업': 73,\n",
              " '수입': 74,\n",
              " '자재': 75,\n",
              " '인테리': 76,\n",
              " '주변기': 77,\n",
              " '시설물': 78,\n",
              " '가공업': 79,\n",
              " '토목': 80,\n",
              " '주택': 81,\n",
              " '설치업': 82,\n",
              " '토목공사업': 83,\n",
              " '광고대행업': 84,\n",
              " '생활용품': 85,\n",
              " '공급': 86,\n",
              " '기계': 87,\n",
              " '분양업': 88,\n",
              " '수출': 89,\n",
              " '건물': 90,\n",
              " '정보': 91,\n",
              " '전대업': 92,\n",
              " '전기공사업': 93,\n",
              " '분양대행업': 94,\n",
              " '제공업': 95,\n",
              " '수산물': 96,\n",
              " '운송업': 97,\n",
              " '자금': 98,\n",
              " '용역': 99,\n",
              " '설비': 100,\n",
              " '전자부품': 101,\n",
              " '의료기': 102,\n",
              " '이용': 103,\n",
              " '출판업': 104,\n",
              " '전자제품': 105,\n",
              " '상품': 106,\n",
              " '유지': 107,\n",
              " '건설': 108,\n",
              " '재생에너지': 109,\n",
              " '축산물': 110,\n",
              " '통신': 111,\n",
              " '토공사업': 112,\n",
              " '프랜차이즈업': 113,\n",
              " '관련사업': 114,\n",
              " '주택건설업': 115,\n",
              " '발행': 116,\n",
              " '통신기': 117,\n",
              " '컨텐츠': 118,\n",
              " '조합원': 119,\n",
              " '프로그램': 120,\n",
              " '홍보': 121,\n",
              " '포함': 122,\n",
              " '농업': 123,\n",
              " '폐기물': 124,\n",
              " '기술': 125,\n",
              " '전자': 126,\n",
              " '제공': 127,\n",
              " '중개': 128,\n",
              " '농수산물': 129,\n",
              " '지원': 130,\n",
              " '디자인': 131,\n",
              " '공동이용시설': 132,\n",
              " '광고업': 133,\n",
              " '제1호': 134,\n",
              " '농작업': 135,\n",
              " '무역': 136,\n",
              " '목적달성': 137,\n",
              " '위탁': 138,\n",
              " '상환': 139,\n",
              " '유지보수업': 140,\n",
              " '철근콘크리트': 141,\n",
              " '알선': 142,\n",
              " '일반': 143,\n",
              " '태양광': 144,\n",
              " '주거용': 145,\n",
              " '체결': 146,\n",
              " '창고업': 147,\n",
              " '산물': 148,\n",
              " '공동작업': 149,\n",
              " '자문업': 150,\n",
              " '수집': 151,\n",
              " '대여업': 152,\n",
              " '기업': 153,\n",
              " '처리업': 154,\n",
              " '회사': 155,\n",
              " '인테리어업': 156,\n",
              " '해외': 157,\n",
              " '정보통신': 158,\n",
              " '상하수도': 159,\n",
              " '국내': 160,\n",
              " '판매사업': 161,\n",
              " '경영컨설팅업': 162,\n",
              " '디자인업': 163,\n",
              " '의약품': 164,\n",
              " '영농': 165,\n",
              " '가구': 166,\n",
              " '마케팅': 167,\n",
              " '수출업': 168,\n",
              " '구축': 169,\n",
              " '도매': 170,\n",
              " '조합': 171,\n",
              " '식자재': 172,\n",
              " '자동차부품': 173,\n",
              " '농축산물': 174,\n",
              " '연구개발': 175,\n",
              " '행사': 176,\n",
              " '수리업': 177,\n",
              " '임가공업': 178,\n",
              " '건설자재': 179,\n",
              " '차입': 180,\n",
              " '건축물': 181,\n",
              " '음식점업': 182,\n",
              " '악세사리': 183,\n",
              " '정보제공': 184,\n",
              " '관련한': 185,\n",
              " '전시': 186,\n",
              " '제조판매업': 187,\n",
              " '부동산개발': 188,\n",
              " '조경공사업': 189,\n",
              " '영화': 190,\n",
              " '교육사업': 191,\n",
              " '운송': 192,\n",
              " '건설기계': 193,\n",
              " '기자재': 194,\n",
              " '수리': 195,\n",
              " '상담': 196,\n",
              " '종합': 197,\n",
              " '시공': 198,\n",
              " '농기계': 199,\n",
              " '통신판매': 200,\n",
              " '대여사업': 201,\n",
              " '산업용': 202,\n",
              " '부동산매매': 203,\n",
              " '영상': 204,\n",
              " '광고물': 205,\n",
              " '쇼핑몰': 206,\n",
              " '유지보수': 207,\n",
              " '하드웨어': 208,\n",
              " '엔지니어링': 209,\n",
              " '콘텐츠': 210,\n",
              " '철근콘크리트공사업': 211,\n",
              " '프트웨': 212,\n",
              " '조경': 213,\n",
              " '농수축산물': 214,\n",
              " '계약': 215,\n",
              " '운반업': 216,\n",
              " '골재': 217,\n",
              " '주선업': 218,\n",
              " '건강식품': 219,\n",
              " '연구개발업': 220,\n",
              " '이벤트': 221,\n",
              " '반도체': 222,\n",
              " '실내건축공사업': 223,\n",
              " '용품': 224,\n",
              " '동산임대업': 225,\n",
              " '집단재배': 226,\n",
              " '시설물유지관리업': 227,\n",
              " '부동산개발업': 228,\n",
              " '건강기능식품': 229,\n",
              " '운용': 230,\n",
              " '유지관리업': 231,\n",
              " '실내': 232,\n",
              " '철구조물': 233,\n",
              " '정보통신공사업': 234,\n",
              " '데이터베이스': 235,\n",
              " '석공사업': 236,\n",
              " '수입업': 237,\n",
              " '프랜차이즈': 238,\n",
              " '구조물': 239,\n",
              " '스포츠': 240,\n",
              " '개발사업': 241,\n",
              " '에너지': 242,\n",
              " '재배': 243,\n",
              " '전부': 244,\n",
              " '도급업': 245,\n",
              " '퓨터': 246,\n",
              " '전문': 247,\n",
              " '운영사업': 248,\n",
              " '감리업': 249,\n",
              " '근로자': 250,\n",
              " '교육서비스업': 251,\n",
              " '법인': 252,\n",
              " '시행업': 253,\n",
              " '지역사회': 254,\n",
              " '취득': 255,\n",
              " '인쇄업': 256,\n",
              " '자상거래업': 257,\n",
              " '정보제공업': 258,\n",
              " '발전': 259,\n",
              " '조사': 260,\n",
              " '포장공사업': 261,\n",
              " '협력': 262,\n",
              " '가전제품': 263,\n",
              " '정관': 264,\n",
              " '교육업': 265,\n",
              " '숙박업': 266,\n",
              " '건축업': 267,\n",
              " '터넷': 268,\n",
              " '공산품': 269,\n",
              " '상가': 270,\n",
              " '관련제품': 271,\n",
              " '포장': 272,\n",
              " '가공식품': 273,\n",
              " '도장공사업': 274,\n",
              " '문화': 275,\n",
              " '설비공사업': 276,\n",
              " '공동': 277,\n",
              " '경영컨설팅': 278,\n",
              " '파견업': 279,\n",
              " '공연': 280,\n",
              " '모바': 281,\n",
              " '변경': 282,\n",
              " '인쇄': 283,\n",
              " '보관': 284,\n",
              " '투자업': 285,\n",
              " '임대사업': 286,\n",
              " '창호': 287,\n",
              " '공동출하': 288,\n",
              " '방송': 289,\n",
              " '기계설비': 290,\n",
              " '일부': 291,\n",
              " '인력': 292,\n",
              " '선박': 293,\n",
              " '통신장비': 294,\n",
              " '관련업': 295,\n",
              " '통합': 296,\n",
              " '영상물': 297,\n",
              " '화물': 298,\n",
              " '플라스틱': 299,\n",
              " '정보처리': 300,\n",
              " '신발': 301,\n",
              " '금속': 302,\n",
              " '재생에너지사업': 303,\n",
              " '섬유': 304,\n",
              " '부동산임대': 305,\n",
              " '공사': 306,\n",
              " '조성': 307,\n",
              " '음반': 308,\n",
              " '주차장': 309,\n",
              " '종묘생산': 310,\n",
              " '주류': 311,\n",
              " '시행': 312,\n",
              " '보관업': 313,\n",
              " '금융기관': 314,\n",
              " '종균배양사업': 315,\n",
              " '서적': 316,\n",
              " '철물': 317,\n",
              " '설계업': 318,\n",
              " '음료': 319,\n",
              " '주택건설': 320,\n",
              " '실내건축': 321,\n",
              " '직원': 322,\n",
              " '친환경': 323,\n",
              " '화물자동차': 324,\n",
              " '유통사업': 325,\n",
              " '식료품': 326,\n",
              " '설치공사업': 327,\n",
              " '보수업': 328,\n",
              " '증권': 329,\n",
              " '여행업': 330,\n",
              " '임산물': 331,\n",
              " '일시적': 332,\n",
              " '식음료': 333,\n",
              " '창호공사업': 334,\n",
              " '환경': 335,\n",
              " '비철금속': 336,\n",
              " '부동산컨설팅업': 337,\n",
              " '해당': 338,\n",
              " '홈페이지': 339,\n",
              " '신축': 340,\n",
              " '여유자금': 341,\n",
              " '소매': 342,\n",
              " '부동산매매업': 343,\n",
              " '발행업': 344,\n",
              " '동차': 345,\n",
              " '산업': 346,\n",
              " '토목건축공사업': 347,\n",
              " '금속구조물': 348,\n",
              " '채권': 349,\n",
              " '산업기계': 350,\n",
              " '투자': 351,\n",
              " '주택건설사업': 352,\n",
              " '기계설비공사업': 353,\n",
              " '금융': 354,\n",
              " '국외': 355,\n",
              " '원료': 356,\n",
              " '배급업': 357,\n",
              " '대리점업': 358,\n",
              " '대지조성사업': 359,\n",
              " '청소업': 360,\n",
              " '역업': 361,\n",
              " '작업': 362,\n",
              " '발전사업': 363,\n",
              " '기재': 364,\n",
              " '자상거래': 365,\n",
              " '고철': 366,\n",
              " '재생': 367,\n",
              " '정보서비스업': 368,\n",
              " '시설업': 369,\n",
              " '경매': 370,\n",
              " '수탁': 371,\n",
              " '관광': 372,\n",
              " '소프트웨어개발': 373,\n",
              " '장품': 374,\n",
              " '광고대행': 375,\n",
              " '처리': 376,\n",
              " '커피': 377,\n",
              " '관개시설': 378,\n",
              " '구매': 379,\n",
              " '인쇄물': 380,\n",
              " '네트워크': 381,\n",
              " '여행': 382,\n",
              " '전자기': 383,\n",
              " '음식료품': 384,\n",
              " '솔루션': 385,\n",
              " '납품업': 386,\n",
              " '게임': 387,\n",
              " '조립': 388,\n",
              " '판촉물': 389,\n",
              " '캐릭터': 390,\n",
              " '물류': 391,\n",
              " '청소': 392,\n",
              " '용역사업': 393,\n",
              " '창고': 394,\n",
              " '부품': 395,\n",
              " '도장': 396,\n",
              " '위탁판매업': 397,\n",
              " '건강보조식품': 398,\n",
              " '방문판매업': 399,\n",
              " '생산업': 400,\n",
              " '설립': 401,\n",
              " '법률': 402,\n",
              " '사료': 403,\n",
              " '보수': 404,\n",
              " '기계장비': 405,\n",
              " '스포츠용품': 406,\n",
              " '농축수산물': 407,\n",
              " '조경시설물': 408,\n",
              " '비디오물': 409,\n",
              " '물품': 410,\n",
              " '유지관리': 411,\n",
              " '관리사업': 412,\n",
              " '상품중개업': 413,\n",
              " '써비스업': 414,\n",
              " '보급': 415,\n",
              " '철강재': 416,\n",
              " '기업어음증권': 417,\n",
              " '인력공급업': 418,\n",
              " '전기자재': 419,\n",
              " '사채': 420,\n",
              " '회원': 421,\n",
              " '휴대폰': 422,\n",
              " '농업기계': 423,\n",
              " '제조및': 424,\n",
              " '가방': 425,\n",
              " '소규모': 426,\n",
              " '자산': 427,\n",
              " '축자재': 428,\n",
              " '제조판매': 429,\n",
              " '철강': 430,\n",
              " '연예': 431,\n",
              " '정비업': 432,\n",
              " '프로그래밍': 433,\n",
              " '요식업': 434,\n",
              " '비축사업': 435,\n",
              " '의료용품': 436,\n",
              " '분양대행': 437,\n",
              " '화학제품': 438,\n",
              " '광고기획': 439,\n",
              " '액세서리': 440,\n",
              " '처분': 441,\n",
              " '해체': 442,\n",
              " '개최': 443,\n",
              " '시장조사': 444,\n",
              " '수반': 445,\n",
              " '목공사업': 446,\n",
              " '주방용품': 447,\n",
              " '일반음식점업': 448,\n",
              " '기획업': 449,\n",
              " '멀티미디어': 450,\n",
              " '유통판매업': 451,\n",
              " '설비업': 452,\n",
              " '교육훈련': 453,\n",
              " '축산업': 454,\n",
              " '냉동': 455,\n",
              " '합성수지': 456,\n",
              " '목재': 457,\n",
              " '의약외품': 458,\n",
              " '의료': 459,\n",
              " '디지털': 460,\n",
              " '제2조': 461,\n",
              " '대리업': 462,\n",
              " '내외': 463,\n",
              " '대출': 464,\n",
              " '음식점': 465,\n",
              " '방송프로그램': 466,\n",
              " '청소년': 467,\n",
              " '조경식재': 468,\n",
              " '권리': 469,\n",
              " '조경식재공사업': 470,\n",
              " '상거래업': 471,\n",
              " '농축산업': 472,\n",
              " '조달': 473,\n",
              " '운수업': 474,\n",
              " '경비': 475,\n",
              " '기구': 476,\n",
              " '마케팅업': 477,\n",
              " '생산공급': 478,\n",
              " '매입': 479,\n",
              " '건설장비': 480,\n",
              " '유무선': 481,\n",
              " '금형': 482,\n",
              " '운반': 483,\n",
              " '경영자문': 484,\n",
              " '소방시설': 485,\n",
              " '장치': 486,\n",
              " '저장': 487,\n",
              " '영농조합법인': 488,\n",
              " '플랜트': 489,\n",
              " '농어촌': 490,\n",
              " '행사대행업': 491,\n",
              " '자동화': 492,\n",
              " '임가공': 493,\n",
              " '목적사업': 494,\n",
              " '학원': 495,\n",
              " '자회사': 496,\n",
              " '지방자치단체': 497,\n",
              " '지역': 498,\n",
              " '보관사업': 499,\n",
              " '감리': 500,\n",
              " '분석': 501,\n",
              " '인력공급': 502,\n",
              " '경비업': 503,\n",
              " '향상': 504,\n",
              " '활용': 505,\n",
              " '식품제조': 506,\n",
              " '지원사업': 507,\n",
              " '제6호': 508,\n",
              " '재료': 509,\n",
              " '여행알선업': 510,\n",
              " '인력파견업': 511,\n",
              " '창업': 512,\n",
              " '강구조물': 513,\n",
              " '모집': 514,\n",
              " '공동주택': 515,\n",
              " '매취비축사업': 516,\n",
              " '양성': 517,\n",
              " '방수': 518,\n",
              " '철물공사업': 519,\n",
              " '일반여행업': 520,\n",
              " '비계구조물': 521,\n",
              " '미장': 522,\n",
              " '기술용역업': 523,\n",
              " '상하수도설비공사업': 524,\n",
              " '훈련': 525,\n",
              " '기계부품': 526,\n",
              " '응용': 527,\n",
              " '사무': 528,\n",
              " '부자재': 529,\n",
              " '관광휴양사업': 530,\n",
              " '화공약품': 531,\n",
              " '배급': 532,\n",
              " '통신공사업': 533,\n",
              " '설계시공업': 534,\n",
              " '부동산업': 535,\n",
              " '소방설비': 536,\n",
              " '비철': 537,\n",
              " '중고자동차': 538,\n",
              " '비료': 539,\n",
              " '비디오': 540,\n",
              " '마스크': 541,\n",
              " '소방': 542,\n",
              " '대출채권': 543,\n",
              " '판매대행업': 544,\n",
              " '기관': 545,\n",
              " '브랜드': 546,\n",
              " '기술개발': 547,\n",
              " '소재': 548,\n",
              " '재활용': 549,\n",
              " '임대수리보관사업': 550,\n",
              " '소모품': 551,\n",
              " '고용알선업': 552,\n",
              " '수집운반업': 553,\n",
              " '사채전자단기사채': 554,\n",
              " '중기': 555,\n",
              " '중장비': 556,\n",
              " '항공권': 557,\n",
              " '도·소매업': 558,\n",
              " '축공사업': 559,\n",
              " '공공기관': 560,\n",
              " '차량': 561,\n",
              " '리모델링': 562,\n",
              " '원단': 563,\n",
              " '공매': 564,\n",
              " '육성': 565,\n",
              " '섬유제품': 566,\n",
              " '대체에너지': 567,\n",
              " '농업경영': 568,\n",
              " '비계구조물해체공사업': 569,\n",
              " '예술': 570,\n",
              " '소방공사업': 571,\n",
              " '완구': 572,\n",
              " '하수': 573,\n",
              " '귀금속': 574,\n",
              " '채취업': 575,\n",
              " '조성사업': 576,\n",
              " '위생용품': 577,\n",
              " '이벤트업': 578,\n",
              " '중소기업': 579,\n",
              " '양수': 580,\n",
              " '컨설팅사업': 581,\n",
              " '화물운송': 582,\n",
              " '정부': 583,\n",
              " '포털': 584,\n",
              " '콘크리트': 585,\n",
              " '유가증권': 586,\n",
              " '대부업': 587,\n",
              " '수탁관리사업': 588,\n",
              " '비계': 589,\n",
              " '간행물': 590,\n",
              " '인터넷쇼핑몰': 591,\n",
              " '농자재': 592,\n",
              " '인테리어공사업': 593,\n",
              " '투자자문업': 594,\n",
              " '교류': 595,\n",
              " '기술용역': 596,\n",
              " '주변장치': 597,\n",
              " '정보통신기기': 598,\n",
              " '청소용역업': 599,\n",
              " '위생관리': 600,\n",
              " '조명기구': 601,\n",
              " '기공사업': 602,\n",
              " '철근': 603,\n",
              " '분양사업': 604,\n",
              " '단체': 605,\n",
              " '해체공사업': 606,\n",
              " '리모델링업': 607,\n",
              " '판매도소매업': 608,\n",
              " '상품권': 609,\n",
              " '정비': 610,\n",
              " '프렌차이즈업': 611,\n",
              " '자부품': 612,\n",
              " '공연기획': 613,\n",
              " '냉장': 614,\n",
              " '태양광발전사업': 615,\n",
              " '대상': 616,\n",
              " '토목건축': 617,\n",
              " '재활용업': 618,\n",
              " '제2호': 619,\n",
              " '재배업': 620,\n",
              " '산림': 621,\n",
              " '의료용': 622,\n",
              " '정기간행물': 623,\n",
              " '프랜차이즈사업': 624,\n",
              " '합병': 625,\n",
              " '설업': 626,\n",
              " '안전용품': 627,\n",
              " '상담업': 628,\n",
              " '정기예금계약': 629,\n",
              " '금속구조물창호공사업': 630,\n",
              " '부동산관련': 631,\n",
              " '소독업': 632,\n",
              " '전기전자': 633,\n",
              " '공급사업': 634,\n",
              " '원자재': 635,\n",
              " '유류': 636,\n",
              " '문화예술': 637,\n",
              " '경영업': 638,\n",
              " '전대': 639,\n",
              " '부가통신업': 640,\n",
              " '오프라': 641,\n",
              " '산업설비': 642,\n",
              " '가정용품': 643,\n",
              " '관련서비스업': 644,\n",
              " '도급': 645,\n",
              " '업기계': 646,\n",
              " '상업용': 647,\n",
              " '엔터테인먼트': 648,\n",
              " '검사': 649,\n",
              " '유동화증권': 650,\n",
              " '임대관리': 651,\n",
              " '사무용품': 652,\n",
              " '제5호': 653,\n",
              " '의복': 654,\n",
              " '수입판매업': 655,\n",
              " '외국': 656,\n",
              " '지적재산권': 657,\n",
              " '태양광발전': 658,\n",
              " '어플리케이션': 659,\n",
              " '호텔': 660,\n",
              " '아파트': 661,\n",
              " '채무증권': 662,\n",
              " '소방시설공사업': 663,\n",
              " '교육관련': 664,\n",
              " '조명': 665,\n",
              " '택건설업': 666,\n",
              " '활성화': 667,\n",
              " '체육시설': 668,\n",
              " '주식': 669,\n",
              " '부동산컨설팅': 670,\n",
              " '온라인정보제공업': 671,\n",
              " '관광객': 672,\n",
              " '매니지먼트': 673,\n",
              " '부실채권': 674,\n",
              " '설치운영': 675,\n",
              " '분야': 676,\n",
              " '관광숙박업': 677,\n",
              " '애니메이션': 678,\n",
              " '사회적': 679,\n",
              " '료기': 680,\n",
              " '약품': 681,\n",
              " '본회': 682,\n",
              " '조경업': 683,\n",
              " '사업지원': 684,\n",
              " '조성업': 685,\n",
              " '지정': 686,\n",
              " '추진': 687,\n",
              " '농업회사': 688,\n",
              " '담보': 689,\n",
              " '온라인정보': 690,\n",
              " '부합': 691,\n",
              " '채취': 692,\n",
              " '실내장식': 693,\n",
              " '활용품': 694,\n",
              " '제7호': 695,\n",
              " '소방설비공사업': 696,\n",
              " '조경시설물설치공사업': 697,\n",
              " '금융업': 698,\n",
              " '부속품': 699,\n",
              " '저작권': 700,\n",
              " '고대행업': 701,\n",
              " '공동이용': 702,\n",
              " '숙박': 703,\n",
              " '가정용': 704,\n",
              " '장공사업': 705,\n",
              " '보험대리점업': 706,\n",
              " '문구': 707,\n",
              " '골프장': 708,\n",
              " '발전소': 709,\n",
              " '장비임대업': 710,\n",
              " '제4호': 711,\n",
              " '신문': 712,\n",
              " '조립업': 713,\n",
              " '대지조성업': 714,\n",
              " '홈쇼핑': 715,\n",
              " '의료용구': 716,\n",
              " '생활': 717,\n",
              " '공구': 718,\n",
              " '발전업': 719,\n",
              " '장애': 720,\n",
              " '가스': 721,\n",
              " '수익사업': 722,\n",
              " '출판물': 723,\n",
              " '납품': 724,\n",
              " '축산': 725,\n",
              " '보유': 726,\n",
              " '건설폐기물': 727,\n",
              " '기능성': 728,\n",
              " '설물': 729,\n",
              " '특수화물': 730,\n",
              " '음향기기': 731,\n",
              " '근로자파견업': 732,\n",
              " '건강': 733,\n",
              " '렌탈업': 734,\n",
              " '공동구매': 735,\n",
              " '출입업': 736,\n",
              " '미디어': 737,\n",
              " '파견': 738,\n",
              " '건축설계': 739,\n",
              " '옥외': 740,\n",
              " '양광': 741,\n",
              " '부산물': 742,\n",
              " '음향': 743,\n",
              " '생활잡화': 744,\n",
              " '매각': 745,\n",
              " '관련하': 746,\n",
              " '동차부품': 747,\n",
              " '음식': 748,\n",
              " '매니지먼트업': 749,\n",
              " '특수': 750,\n",
              " '가공품': 751,\n",
              " '발전기': 752,\n",
              " '자료': 753,\n",
              " '취약계층': 754,\n",
              " '주차장업': 755,\n",
              " '무역수출입업': 756,\n",
              " '자동차용품': 757,\n",
              " '자산관리': 758,\n",
              " '데이터': 759,\n",
              " '일자리': 760,\n",
              " '시설물유지': 761,\n",
              " '간판': 762,\n",
              " '부대시설': 763,\n",
              " '교재': 764,\n",
              " '금융컨설팅업': 765,\n",
              " '조명장치': 766,\n",
              " '주선': 767,\n",
              " '가죽제품': 768,\n",
              " '가공판매업': 769,\n",
              " '패션잡화': 770,\n",
              " '주택신축': 771,\n",
              " '구입': 772,\n",
              " '식품첨가물': 773,\n",
              " '도소': 774,\n",
              " '일반화물': 775,\n",
              " '건물관리업': 776,\n",
              " '강구조물공사업': 777,\n",
              " '신축판매업': 778,\n",
              " '조경수': 779,\n",
              " '위생관리용역업': 780,\n",
              " '배관': 781,\n",
              " '택배업': 782,\n",
              " '연구사업': 783,\n",
              " '컨테이너': 784,\n",
              " '석재': 785,\n",
              " '음식업': 786,\n",
              " '직물': 787,\n",
              " '호의': 788,\n",
              " '냉난방': 789,\n",
              " '보일러': 790,\n",
              " '섬유류': 791,\n",
              " '동산개발': 792,\n",
              " '태양광발전소': 793,\n",
              " '유아용품': 794,\n",
              " '영업': 795,\n",
              " '세미나': 796,\n",
              " '제3호': 797,\n",
              " '공동출하가공': 798,\n",
              " '발굴': 799,\n",
              " '어업': 800,\n",
              " '작성': 801,\n",
              " '포장업': 802,\n",
              " '상하수도공사업': 803,\n",
              " '채소': 804,\n",
              " '휴게음식점업': 805,\n",
              " '기반': 806,\n",
              " '관한사업': 807,\n",
              " '조합간': 808,\n",
              " '부분품': 809,\n",
              " '주식회사': 810,\n",
              " '담배': 811,\n",
              " '영컨설팅업': 812,\n",
              " '실내장식업': 813,\n",
              " '관련기': 814,\n",
              " '중고': 815,\n",
              " '동산개발업': 816,\n",
              " '사업시설': 817,\n",
              " '시멘트': 818,\n",
              " '도시': 819,\n",
              " '주택신축판매업': 820,\n",
              " '관리대행업': 821,\n",
              " '소분업': 822,\n",
              " '홍보대행업': 823,\n",
              " '동산매매': 824,\n",
              " '물류업': 825,\n",
              " '학술': 826,\n",
              " '컴퓨터시스템': 827,\n",
              " '정비사업': 828,\n",
              " '상거래': 829,\n",
              " '음악': 830,\n",
              " '권리분석': 831,\n",
              " '고업': 832,\n",
              " '빌딩': 833,\n",
              " '육류': 834,\n",
              " '숙박시설': 835,\n",
              " '시설관리': 836,\n",
              " '기업어음': 837,\n",
              " '건물관리': 838,\n",
              " '공동사업': 839,\n",
              " '드라마': 840,\n",
              " '소품': 841,\n",
              " '석유류': 842,\n",
              " '문화사업': 843,\n",
              " '전세버스': 844,\n",
              " '기계류': 845,\n",
              " '대리점': 846,\n",
              " '알선사업': 847,\n",
              " '전기공사': 848,\n",
              " '금속제품': 849,\n",
              " '1호': 850,\n",
              " '데이터베이스업': 851,\n",
              " '서비스사업': 852,\n",
              " '대행사업': 853,\n",
              " '통화스왑': 854,\n",
              " '경비용역업': 855,\n",
              " '규정': 856,\n",
              " '시설관리업': 857,\n",
              " '승강기': 858,\n",
              " '전기통신': 859,\n",
              " '기물': 860,\n",
              " '보조': 861,\n",
              " '철거업': 862,\n",
              " '자료처리': 863,\n",
              " '제공사업': 864,\n",
              " '보험': 865,\n",
              " '관광사업': 866,\n",
              " '합원': 867,\n",
              " '관광농원': 868,\n",
              " '오락': 869,\n",
              " '프라스틱': 870,\n",
              " '농작물': 871,\n",
              " '사업목적': 872,\n",
              " '국내여행업': 873,\n",
              " '주택사업': 874,\n",
              " '화물운송업': 875,\n",
              " '광물': 876,\n",
              " '운송주선업': 877,\n",
              " '환경관련': 878,\n",
              " '방송장비': 879,\n",
              " '관리용역업': 880,\n",
              " '중간처리업': 881,\n",
              " '평가업': 882,\n",
              " '무선': 883,\n",
              " '투자자문': 884,\n",
              " '원부자재': 885,\n",
              " '체험': 886,\n",
              " '수중공사업': 887,\n",
              " '처리시설': 888,\n",
              " '토지': 889,\n",
              " '건설사업': 890,\n",
              " '지급': 891,\n",
              " '조사연구': 892,\n",
              " '관련부품': 893,\n",
              " '호스팅': 894,\n",
              " '문구류': 895,\n",
              " '소독': 896,\n",
              " '자제품': 897,\n",
              " '유사한': 898,\n",
              " '전기전자제품': 899,\n",
              " '재활용품': 900,\n",
              " '무역중개업': 901,\n",
              " '예약': 902,\n",
              " '쇼핑몰업': 903,\n",
              " '가맹사업': 904,\n",
              " '생산유통가공판매': 905,\n",
              " '하도급업': 906,\n",
              " '골프용품': 907,\n",
              " '실내건축업': 908,\n",
              " '미장방수조적공사업': 909,\n",
              " '유리': 910,\n",
              " '보링그라우팅': 911,\n",
              " '경매업': 912,\n",
              " '자산관리업': 913,\n",
              " '보링그라우팅공사업': 914,\n",
              " '유동화자산': 915,\n",
              " '통신업': 916,\n",
              " '알루미늄': 917,\n",
              " '일반폐기물': 918,\n",
              " '차입금': 919,\n",
              " '구축업': 920,\n",
              " '출판사업': 921,\n",
              " '임업': 922,\n",
              " '플랫폼': 923,\n",
              " '교육지원': 924,\n",
              " '사용': 925,\n",
              " '일반음식점': 926,\n",
              " '유치업': 927,\n",
              " '과학': 928,\n",
              " '의약부외품': 929,\n",
              " '창작': 930,\n",
              " '광고사업': 931,\n",
              " '금융투자상품': 932,\n",
              " '필름': 933,\n",
              " '도장업': 934,\n",
              " '주택관리업': 935,\n",
              " '생필품': 936,\n",
              " '승인': 937,\n",
              " '가맹점': 938,\n",
              " '패션': 939,\n",
              " '풍력': 940,\n",
              " '위탁사업': 941,\n",
              " '대지조성': 942,\n",
              " '디스플레이': 943,\n",
              " '부동산분양': 944,\n",
              " '식품류': 945,\n",
              " '국외여행업': 946,\n",
              " '택지조성': 947,\n",
              " '시설경비업': 948,\n",
              " '프로젝트': 949,\n",
              " '정보기술': 950,\n",
              " '자원': 951,\n",
              " '인터넷사업': 952,\n",
              " '규모': 953,\n",
              " '실내인테리어업': 954,\n",
              " '방향제': 955,\n",
              " '위생': 956,\n",
              " '부동산관리업': 957,\n",
              " '투자사업': 958,\n",
              " '종묘': 959,\n",
              " '정보통신서비스업': 960,\n",
              " '사육': 961,\n",
              " '연구용역': 962,\n",
              " '외식사업': 963,\n",
              " '저수조': 964,\n",
              " '수축산물': 965,\n",
              " '직판장': 966,\n",
              " '파견사업': 967,\n",
              " '국제': 968,\n",
              " '항공': 969,\n",
              " '경공사업': 970,\n",
              " '시스템통합': 971,\n",
              " '세제': 972,\n",
              " '근콘크리트공사업': 973,\n",
              " '정수': 974,\n",
              " '운송관련': 975,\n",
              " '일체사업': 976,\n",
              " '발권': 977,\n",
              " '가전': 978,\n",
              " '보호': 979,\n",
              " '철거': 980,\n",
              " '라이센스업': 981,\n",
              " '방송업': 982,\n",
              " '방문': 983,\n",
              " '부가통신사업': 984,\n",
              " '컨벤션': 985,\n",
              " '광고제작': 986,\n",
              " '화훼': 987,\n",
              " '창고보관업': 988,\n",
              " '해상': 989,\n",
              " '정보매개': 990,\n",
              " '공장': 991,\n",
              " '평생교육시설': 992,\n",
              " '도서출판': 993,\n",
              " '단말기': 994,\n",
              " '동산매매업': 995,\n",
              " '용기': 996,\n",
              " '외식업': 997,\n",
              " '페인트': 998,\n",
              " '위탁관리업': 999,\n",
              " '레저': 1000,\n",
              " ...}"
            ]
          },
          "metadata": {
            "tags": []
          },
          "execution_count": 9
        }
      ]
    },
    {
      "cell_type": "code",
      "metadata": {
        "colab": {
          "base_uri": "https://localhost:8080/"
        },
        "id": "PuoIOXEkpUpa",
        "outputId": "ebb76ced-eafc-4e13-be38-873fa692ad51"
      },
      "source": [
        "data_configs['raw_labels']"
      ],
      "execution_count": 10,
      "outputs": [
        {
          "output_type": "execute_result",
          "data": {
            "text/plain": [
              "[array(['A', 'B', 'C', 'D', 'E', 'F', 'G', 'H', 'I', 'J', 'K', 'L', 'M',\n",
              "        'N', 'O', 'P', 'Q', 'R', 'S', 'T', 'U'], dtype='<U1')]"
            ]
          },
          "metadata": {
            "tags": []
          },
          "execution_count": 10
        }
      ]
    },
    {
      "cell_type": "code",
      "metadata": {
        "colab": {
          "base_uri": "https://localhost:8080/"
        },
        "id": "fpw8twkNXRMf",
        "outputId": "95fe0849-0f1b-4902-92fc-dde8cfd6edfb"
      },
      "source": [
        "print('최소 단어 개수 : ' + str(min(word_counted)) +  '최대 단어 개수 : ' + str(max(word_counted)))"
      ],
      "execution_count": null,
      "outputs": [
        {
          "output_type": "stream",
          "text": [
            "최소 단어 개수 : 1최대 단어 개수 : 623\n"
          ],
          "name": "stdout"
        }
      ]
    },
    {
      "cell_type": "code",
      "metadata": {
        "colab": {
          "base_uri": "https://localhost:8080/"
        },
        "id": "pdIrKZUUXv--",
        "outputId": "5fb26966-e871-4c0d-cb96-ee3503c52e0e"
      },
      "source": [
        "train_inputs"
      ],
      "execution_count": null,
      "outputs": [
        {
          "output_type": "execute_result",
          "data": {
            "text/plain": [
              "array([[     0,      0,      0, ...,    535,    874,  10362],\n",
              "       [     0,      0,      0, ...,     18,    804,   1435],\n",
              "       [     0,      0,      0, ...,    807,   6749, 112032],\n",
              "       ...,\n",
              "       [     0,      0,      0, ...,      1,     60,     17],\n",
              "       [     0,      0,      0, ...,    390,   2694,    257],\n",
              "       [     0,      0,      0, ...,      1,     12,  14717]], dtype=int32)"
            ]
          },
          "metadata": {
            "tags": []
          },
          "execution_count": 20
        }
      ]
    },
    {
      "cell_type": "code",
      "metadata": {
        "colab": {
          "base_uri": "https://localhost:8080/"
        },
        "id": "BvI_ncHrqgkX",
        "outputId": "45da38f6-1314-40a3-919a-efc16e1b84e6"
      },
      "source": [
        "train_inputs.shape, train_labels.shape"
      ],
      "execution_count": 11,
      "outputs": [
        {
          "output_type": "execute_result",
          "data": {
            "text/plain": [
              "((1766017, 30), (1766017, 21))"
            ]
          },
          "metadata": {
            "tags": []
          },
          "execution_count": 11
        }
      ]
    },
    {
      "cell_type": "code",
      "metadata": {
        "colab": {
          "base_uri": "https://localhost:8080/"
        },
        "id": "Te4EgheRX3Ws",
        "outputId": "224dd7df-56cd-45c3-88dd-56bdbba5c0e8"
      },
      "source": [
        "train_labels"
      ],
      "execution_count": null,
      "outputs": [
        {
          "output_type": "execute_result",
          "data": {
            "text/plain": [
              "array([[0., 0., 0., ..., 0., 0., 0.],\n",
              "       [0., 0., 0., ..., 0., 0., 0.],\n",
              "       [1., 0., 0., ..., 0., 0., 0.],\n",
              "       ...,\n",
              "       [0., 0., 0., ..., 0., 0., 0.],\n",
              "       [0., 0., 0., ..., 0., 0., 0.],\n",
              "       [0., 0., 0., ..., 0., 0., 0.]])"
            ]
          },
          "metadata": {
            "tags": []
          },
          "execution_count": 21
        }
      ]
    },
    {
      "cell_type": "code",
      "metadata": {
        "colab": {
          "base_uri": "https://localhost:8080/"
        },
        "id": "D-HeQYCkX6dx",
        "outputId": "03aec45c-3431-4a77-9a0f-dc1b61d67e9a"
      },
      "source": [
        "len(train_labels[0])"
      ],
      "execution_count": null,
      "outputs": [
        {
          "output_type": "execute_result",
          "data": {
            "text/plain": [
              "79"
            ]
          },
          "metadata": {
            "tags": []
          },
          "execution_count": 22
        }
      ]
    },
    {
      "cell_type": "code",
      "metadata": {
        "id": "hWC4VREcX-Yv"
      },
      "source": [
        "data_configs"
      ],
      "execution_count": null,
      "outputs": []
    },
    {
      "cell_type": "markdown",
      "metadata": {
        "id": "XL0S8R0EMUoK"
      },
      "source": [
        "- Embedding은 결국 입력받는 텍스트에 대해 자연어를 인공 신경망이 이해(학습)할 수 있는 차원으로 변환하는 것이다.\n",
        "- tokenizer을 이용해서 입력 문장을 token단위ㅣ로 쪼개고 해당 token을 vocab에 매칭하여서 숫자로 입력을 한다. -> 이 과정을 tokenizing_text()함수를 이용해서 진행하고, 최종적으로 입력에 넣을 데이터가 만들어 진다.\n",
        "- 모델이 학습시킬 차원을 낮추기 위한 목적에서도 Embedding Layer의 필요성은 매우 커진다.\n",
        "- 단어를 Embedding으로 표현 함으로서 단어의 의미적 중요성을 숫자의 형태로 모델링하여 신경망이 연산을 효과적으로 수행할 수 있도록 한다.\n",
        "- BERT는 positional encoding을 사용하며, segment embedding도 추가하여 총 3개의 embedding을 합해서 embedding을 수행한다.\n"
      ]
    },
    {
      "cell_type": "markdown",
      "metadata": {
        "id": "P_T8yvnI0N5n"
      },
      "source": [
        "### MODEL"
      ]
    },
    {
      "cell_type": "markdown",
      "metadata": {
        "id": "Dmpz-zo2kB0Q"
      },
      "source": [
        "#### Self Attention\n",
        "1. positional encoding은 embedding vector에 단어의 문장에서의 위치에 대한 정보를 제공하기 위해서 주어진다.\n",
        "2. positional encoding을 추가한 이후에는 의미의 similarity와 문장에서의 위치가 반영이 가능하게 될 것이다."
      ]
    },
    {
      "cell_type": "markdown",
      "metadata": {
        "id": "zXuV4jPGciDq"
      },
      "source": [
        "#### Embedding\n",
        "1. 먼저 positional encoding vector을 만들어야 한다.\n",
        "  - 문장 내에서 단어의 상대적인 의미를 제공해 줄 것이다.\n",
        "\n",
        "#### POSITIONAL ENCODING"
      ]
    },
    {
      "cell_type": "code",
      "metadata": {
        "id": "iZ1uwhfIdM-P"
      },
      "source": [
        "def get_angles(pos, i, d_model):\n",
        "  angle_rates = 1/np.power(10000, (2*i//np.float32(d_model)))\n",
        "  return pos * angle_rates"
      ],
      "execution_count": 12,
      "outputs": []
    },
    {
      "cell_type": "code",
      "metadata": {
        "id": "M0ozZj6ejiyu"
      },
      "source": [
        "def positional_encoding(position, d_model):\n",
        "  angle_rads = get_angles(np.arange(position)[:, np.newaxis],\n",
        "                          np.arange(d_model)[np.newaxis, :], d_model)\n",
        "  \n",
        "  angle_rads[:, 0::2] = np.sin(angle_rads[:, 0::2])\n",
        "  angle_rads[:, 1::2] = np.cos(angle_rads[:, 1::2])\n",
        "\n",
        "  pos_encoding = angle_rads[np.newaxis, ...]\n",
        "\n",
        "  return tf.cast(pos_encoding, dtype = tf.float32)"
      ],
      "execution_count": 13,
      "outputs": []
    },
    {
      "cell_type": "markdown",
      "metadata": {
        "id": "_mPRjSoiKV5L"
      },
      "source": [
        "#### MASK PADDING\n",
        "- 문자열의 모든 batch들에 대해서 padding된 token을 masking한다.\n",
        "- model이 padding된 부분을 **input으로 고려할 수 없도록**한다.\n",
        "- mask에 의해서 pad value가 존재하면 0, 존재하지 않으면 1로 설정이 되도록 한다."
      ]
    },
    {
      "cell_type": "code",
      "metadata": {
        "id": "-_6rZDfBKcld"
      },
      "source": [
        "def create_padding_masks(seq):\n",
        "  seq = tf.cast(tf.math.equal(seq, 0), tf.float32)\n",
        "\n",
        "  # add extra dimensions to add the padding to the attention logits\n",
        "  return seq[:, tf.newaxis, tf.newaxis, :] # (batch_size, 1, 1, seq_length)"
      ],
      "execution_count": 14,
      "outputs": []
    },
    {
      "cell_type": "markdown",
      "metadata": {
        "id": "1rmIX8XfH57d"
      },
      "source": [
        "#### SCALED DOT PRODUCT ATTENTION\n",
        "-  Attention(Q, K, V) = softmax(Q*transpose(K) / d_model의 제곱근) x V"
      ]
    },
    {
      "cell_type": "code",
      "metadata": {
        "id": "96cW0uu0H98Z"
      },
      "source": [
        "def scaled_dot_product_attention(q, v, k, mask):\n",
        "  \"\"\"\n",
        "  @param q : query (.., seq_length_q, depth(=dmodel))\n",
        "  @param v : value (.., seq_length_v, depth(=dmodel))\n",
        "  @param k : key (.., seq_length_k, depth_v)\n",
        "  @param mask : (.., seq_length_q, seq_length_k)\n",
        "  \"\"\"\n",
        "\n",
        "  qk_matmul = tf.matmul(q, k, transpose_b = True)\n",
        "\n",
        "  # dk = dimension of queries ans key\n",
        "  dk = tf.cast(tf.shape(k)[-1], tf.float32)\n",
        "  scaled_att_logits = qk_matmul / tf.math.sqrt(dk)\n",
        "\n",
        "  if mask is not None:\n",
        "    scaled_att_logits += (mask * -1e9)\n",
        "  \n",
        "  att_weights = tf.nn.softmax(scaled_att_logits, axis = -1)\n",
        "\n",
        "  output = tf.matmul(att_weights, v)\n",
        "\n",
        "  return output, att_weights\n",
        "\n"
      ],
      "execution_count": 15,
      "outputs": []
    },
    {
      "cell_type": "markdown",
      "metadata": {
        "id": "okFVklKWH9Px"
      },
      "source": [
        "#### MULTI HEAD ATTENTION\n",
        "- Linear Layers and Splits into Heads\n",
        "- Scaled Dot-Product Attention\n",
        "- Concatenation of Heads\n",
        "- Final Linear Layer"
      ]
    },
    {
      "cell_type": "code",
      "metadata": {
        "id": "h4nKUgUjRmvq"
      },
      "source": [
        "class MultiHeadAttention(tf.keras.layers.Layer):\n",
        "  def __init__(self, d_model, num_heads):\n",
        "    '''\n",
        "    d_model : dimension을 알려주는, 즉 Attention을 연산할 때 key, query, value에 대해서 차원을 정의하기 위해 사용\n",
        "    num_heads : Attention의 head의 개수를 정의하기 위한 parameter\n",
        "    이 값들을 따로 kwargs에 저장할까 하다가 복잡해 질것 같아서 config.yaml 파일을 만들기로\n",
        "    '''\n",
        "    super(MultiHeadAttention, self).__init__()\n",
        "# 차원의 수는 head의 수만큼 나누어져야 하므로 나누어지지 않을 시에 Error발생\n",
        "    # assert d_model % num_heads == 0\n",
        "    \n",
        "    self.num_heads = num_heads\n",
        "    self.d_model = d_model\n",
        "\n",
        "    self.depth = d_model\n",
        "\n",
        "    self.fcq = tf.keras.layers.Dense(d_model) # query의 차원만큼 Dense unit 설정\n",
        "    self.fcv = tf.keras.layers.Dense(d_model) # value\n",
        "    self.fck = tf.keras.layers.Dense(d_model) # key\n",
        "\n",
        "    self.dense = tf.keras.layers.Dense(d_model)\n",
        "  \n",
        "  def call(self, v, k, q, mask):\n",
        "    batch_size = tf.shape(q)[0]\n",
        "\n",
        "    q = self.fcq(q)\n",
        "    k = self.fck(k)\n",
        "    v = self.fcv(v)\n",
        "\n",
        "    q = self.split_heads(q, batch_size)\n",
        "    k = self.split_heads(k, batch_size)\n",
        "    v = self.split_heads(v, batch_size)\n",
        "\n",
        "    scaled_attention, attention_w = scaled_dot_product_attention(q,k,v,mask) # attention_w는 여기서는 필요 없는 값\n",
        "\n",
        "    scaled_attention = tf.transpose(scaled_attention, perm = [0,2,1,3])\n",
        "\n",
        "    concat_attention = tf.reshape(scaled_attention, (batch_size, -1, self.d_model))\n",
        "\n",
        "    output = self.dense(concat_attention)\n",
        "\n",
        "    return output, attention_w\n",
        "  \n",
        "  def split_heads(self, x, batch_size):\n",
        "    \"\"\"\n",
        "    key, query, value의 값들에 대한 벡터를 각각의 head의 개수만큼 나눌 수 있도록 함\n",
        "    (batch_size, len_seq, depth) -> (batch_size, num_head, sequence, feature_size)\n",
        "    마지막 차원을 (num_heads, depth)로 변경해 줌\n",
        "    결과를 (batch_size, num_heads, seq_len, depth)로 transpose 해 줌\n",
        "    \"\"\"\n",
        "    x = tf.reshape(x, (batch_size, -1, self.num_heads, self.depth))\n",
        "    x = tf.transpose(x, perm = [0,2,1,3])\n",
        "\n",
        "    return x"
      ],
      "execution_count": 16,
      "outputs": []
    },
    {
      "cell_type": "markdown",
      "metadata": {
        "id": "zdbpeqde1gAZ"
      },
      "source": [
        "#### ENCODER LAYER"
      ]
    },
    {
      "cell_type": "code",
      "metadata": {
        "id": "bPIY073MRgHP"
      },
      "source": [
        "class EncoderLayer(tf.keras.layers.Layer):\n",
        "  def __init__(self, d_model, num_heads, dff, rate = 0.1):\n",
        "    # positional encoding한 출력값에 적용한 dropout rate는 0.1 (논문에 의하면)\n",
        "    super(EncoderLayer, self).__init__()\n",
        "\n",
        "    self.mha = MultiHeadAttention(d_model, num_heads)\n",
        "    self.ffn = point_wise_feed_forward(d_model, dff)\n",
        "\n",
        "    self.layernorm1 = tf.keras.layers.LayerNormalization(epsilon = 1e-6)\n",
        "    self.layernorm2 = tf.keras.layers.LayerNormalization(epsilon = 1e-6)\n",
        "\n",
        "    self.do1 = tf.keras.layers.Dropout(rate)\n",
        "    self.do2 = tf.keras.layers.Dropout(rate)\n",
        "  \n",
        "  def call(self, x, training, mask):\n",
        "    att_output, _ = self.mha(x, x, x, mask = None) # (batch_size, input_seq_length, d_model)\n",
        "    att_output = self.do1(att_output, training) \n",
        "    out1 = self.layernorm1(x + att_output) \n",
        "\n",
        "    ffn_output = self.ffn(out1) # (batch_size, input_seq_length, d_model)\n",
        "    ffn_output = self.do2(ffn_output, training)\n",
        "    out2 = self.layernorm2(out1 + ffn_output) # (batch_size, input_seq_length, d_model)\n",
        "\n",
        "    return out2 # (batch_size, input_seq_length, d_model)"
      ],
      "execution_count": 17,
      "outputs": []
    },
    {
      "cell_type": "markdown",
      "metadata": {
        "id": "5O2cZe0eHLqW"
      },
      "source": [
        "#### POINT WISE FEED FORWARD NETWORK\n",
        "1. two fully-connected layers\n",
        "2. ReLU activation function을 두개의 완전 연결 층의 사이에 둔 network이다."
      ]
    },
    {
      "cell_type": "code",
      "metadata": {
        "id": "4ISr8YmsHcLQ"
      },
      "source": [
        "def point_wise_feed_forward(d_model, dff):\n",
        "  return tf.keras.Sequential([\n",
        "      tf.keras.layers.Dense(dff, activation = 'relu'), # (batch_size, seq_len, dff)\n",
        "      tf.keras.layers.Dense(d_model) # (batch_size, seq_len. d_model)\n",
        "  ])"
      ],
      "execution_count": 18,
      "outputs": []
    },
    {
      "cell_type": "markdown",
      "metadata": {
        "id": "uKNi8s4JxPMf"
      },
      "source": [
        "#### ENCODER\n",
        "1. Input Embedding\n",
        "2. Positional Encoding\n",
        "3. N encoder layers\n",
        "- 입력된 텍스트 데이터는 Embedding 층을 거쳐서 positional encoding과 결합이 된다.\n",
        "- 결합된 데이터는 encoder layer의 입력값으로 반환이 된다.\n",
        "- Encoder는 최종적으로 **word embedding과 position embedding 정보를 받아 input text에 대한 context information을 출력**한다.\n",
        "- 출력 데이터의 shape는 **(batch_size, input_seq_length, d_model)**이다"
      ]
    },
    {
      "cell_type": "code",
      "metadata": {
        "id": "0CE2-g6kY1j2"
      },
      "source": [
        "emb = tf.keras.layers.Embedding(data_configs['vocab_size'], 30)"
      ],
      "execution_count": 43,
      "outputs": []
    },
    {
      "cell_type": "code",
      "metadata": {
        "id": "oxSg8J6avZGA"
      },
      "source": [
        "embedded = emb(train_inputs[:10])"
      ],
      "execution_count": 47,
      "outputs": []
    },
    {
      "cell_type": "code",
      "metadata": {
        "id": "NrJoZyJn5QA5"
      },
      "source": [
        "embedded *= tf.math.sqrt(tf.cast(30, tf.float32)) "
      ],
      "execution_count": 48,
      "outputs": []
    },
    {
      "cell_type": "code",
      "metadata": {
        "id": "y4QJctEl5VYN"
      },
      "source": [
        "embedded = tf.keras.layers.Dropout(0.1)(embedded)"
      ],
      "execution_count": 50,
      "outputs": []
    },
    {
      "cell_type": "code",
      "metadata": {
        "id": "sFXa36xf5tiG"
      },
      "source": [
        "enc_layers = [EncoderLayer(30, NUM_HEADS, DFF, 0.1) for _ in range(4)]"
      ],
      "execution_count": 68,
      "outputs": []
    },
    {
      "cell_type": "code",
      "metadata": {
        "colab": {
          "base_uri": "https://localhost:8080/"
        },
        "id": "axohr_oO58wv",
        "outputId": "198eaa5a-f75c-4556-b34a-51408f007c07"
      },
      "source": [
        "enc_layers"
      ],
      "execution_count": 56,
      "outputs": [
        {
          "output_type": "execute_result",
          "data": {
            "text/plain": [
              "[<__main__.EncoderLayer at 0x7f86e5bea850>,\n",
              " <__main__.EncoderLayer at 0x7f86e5f28d10>,\n",
              " <__main__.EncoderLayer at 0x7f86e5f3c710>,\n",
              " <__main__.EncoderLayer at 0x7f86e5c0ba10>]"
            ]
          },
          "metadata": {
            "tags": []
          },
          "execution_count": 56
        }
      ]
    },
    {
      "cell_type": "code",
      "metadata": {
        "id": "PN5unniX5-Wn"
      },
      "source": [
        "for i in range(4):\n",
        "  x = enc_layers[i](embedded, mask = None)"
      ],
      "execution_count": 69,
      "outputs": []
    },
    {
      "cell_type": "code",
      "metadata": {
        "id": "diHmnATq7KlV"
      },
      "source": [
        "x"
      ],
      "execution_count": null,
      "outputs": []
    },
    {
      "cell_type": "code",
      "metadata": {
        "id": "FSGOeAPrADb0"
      },
      "source": [
        "class Encoder(tf.keras.layers.Layer):\n",
        "  def __init__(self, num_layers, d_model, num_heads, dff, input_voca_size, \n",
        "               max_pos_encoding, rate = 0.1):\n",
        "    super(Encoder, self).__init__()\n",
        "\n",
        "    self.d_model = d_model\n",
        "    self.num_layers = num_layers\n",
        "    self.num_heads = num_heads\n",
        "    self.dff = dff # forward 층에 대해서 unit의 크기를 의미\n",
        "    self.embedding = tf.keras.layers.Embedding(input_voca_size, d_model, input_length = 30) # (batch_size, input_length, d_model)\n",
        "    self.pos_encoding = positional_encoding(max_pos_encoding, d_model)\n",
        "\n",
        "    self.enc_layers = [EncoderLayer(d_model, num_heads, dff, rate) for _ in range(self.num_layers)]\n",
        "\n",
        "    self.dropout = tf.keras.layers.Dropout(rate)\n",
        "  \n",
        "  def call(self, x):\n",
        "    x = self.embedding(x) # tf.Tensor\n",
        "    # x = tf.Session().run(x) \n",
        "    # x = x.numpy()\n",
        "    x *= tf.math.sqrt(tf.cast(self.d_model, tf.float32)) # tf.Tensor\n",
        "    x += self.pos_encoding[:, :tf.shape(x)[1], :] # positional encoding의 경우에는 input embedding과 차원의 크기를 d_model로 동일하게 설정\n",
        "\n",
        "    x = self.dropout(x)\n",
        "\n",
        "    #for layers in self.enc_layers:\n",
        "     # x = layers(x,mask = None)\n",
        "    for i in range(self.num_layers):\n",
        "      x = self.enc_layers[i](x, mask = None)\n",
        "    \n",
        "    return x"
      ],
      "execution_count": 19,
      "outputs": []
    },
    {
      "cell_type": "code",
      "metadata": {
        "id": "acFMtQcL5Ui7"
      },
      "source": [
        "embed = tf.keras.layers.Embedding(data_configs['vocab_size'], D_MODEL, input_length = 30)"
      ],
      "execution_count": null,
      "outputs": []
    },
    {
      "cell_type": "code",
      "metadata": {
        "id": "elBbRC5I5ead"
      },
      "source": [
        "res = embed(x_train[:10])\n",
        "res.numpy()"
      ],
      "execution_count": null,
      "outputs": []
    },
    {
      "cell_type": "code",
      "metadata": {
        "id": "7lcqRO2LBORx"
      },
      "source": [
        "res *= tf.math.sqrt(tf.cast(30, tf.float32))"
      ],
      "execution_count": null,
      "outputs": []
    },
    {
      "cell_type": "code",
      "metadata": {
        "colab": {
          "base_uri": "https://localhost:8080/"
        },
        "id": "1kvKIiQmBhDx",
        "outputId": "51e8988c-23f7-466c-d60c-f9510dcfcaea"
      },
      "source": [
        "positional_encoding(50, 30)[:, tf.shape(res)[1].numpy(), :]"
      ],
      "execution_count": null,
      "outputs": [
        {
          "output_type": "execute_result",
          "data": {
            "text/plain": [
              "<tf.Tensor: shape=(1, 30), dtype=float32, numpy=\n",
              "array([[-0.9880316 ,  0.15425146, -0.9880316 ,  0.15425146, -0.9880316 ,\n",
              "         0.15425146, -0.9880316 ,  0.15425146, -0.9880316 ,  0.15425146,\n",
              "        -0.9880316 ,  0.15425146, -0.9880316 ,  0.15425146, -0.9880316 ,\n",
              "         0.9999955 ,  0.003     ,  0.9999955 ,  0.003     ,  0.9999955 ,\n",
              "         0.003     ,  0.9999955 ,  0.003     ,  0.9999955 ,  0.003     ,\n",
              "         0.9999955 ,  0.003     ,  0.9999955 ,  0.003     ,  0.9999955 ]],\n",
              "      dtype=float32)>"
            ]
          },
          "metadata": {
            "tags": []
          },
          "execution_count": 185
        }
      ]
    },
    {
      "cell_type": "code",
      "metadata": {
        "id": "CQQqRT0W5fst"
      },
      "source": [
        "embedded = embed(x_train)"
      ],
      "execution_count": null,
      "outputs": []
    },
    {
      "cell_type": "code",
      "metadata": {
        "colab": {
          "base_uri": "https://localhost:8080/"
        },
        "id": "1oGwVGV6_pUM",
        "outputId": "342392a7-c43b-44e7-fa79-aa73abd1cfd2"
      },
      "source": [
        "embedded.shape"
      ],
      "execution_count": null,
      "outputs": [
        {
          "output_type": "execute_result",
          "data": {
            "text/plain": [
              "TensorShape([1236211, 30, 30])"
            ]
          },
          "metadata": {
            "tags": []
          },
          "execution_count": 169
        }
      ]
    },
    {
      "cell_type": "code",
      "metadata": {
        "colab": {
          "base_uri": "https://localhost:8080/"
        },
        "id": "wg1YVe0U_sug",
        "outputId": "a39fa87c-6b78-4f92-c9c0-d6bac7d2b66a"
      },
      "source": [
        "len(traindata)"
      ],
      "execution_count": null,
      "outputs": [
        {
          "output_type": "execute_result",
          "data": {
            "text/plain": [
              "1766017"
            ]
          },
          "metadata": {
            "tags": []
          },
          "execution_count": 170
        }
      ]
    },
    {
      "cell_type": "code",
      "metadata": {
        "id": "7V1r8nHd57Zw"
      },
      "source": [
        "embedded.numpy()"
      ],
      "execution_count": null,
      "outputs": []
    },
    {
      "cell_type": "code",
      "metadata": {
        "colab": {
          "base_uri": "https://localhost:8080/"
        },
        "id": "oK3uJ0JS5oaF",
        "outputId": "6b677177-288e-4147-da5b-6f235affa0b4"
      },
      "source": [
        "embedded.shape"
      ],
      "execution_count": null,
      "outputs": [
        {
          "output_type": "execute_result",
          "data": {
            "text/plain": [
              "TensorShape([1236211, 30, 30])"
            ]
          },
          "metadata": {
            "tags": []
          },
          "execution_count": 139
        }
      ]
    },
    {
      "cell_type": "code",
      "metadata": {
        "id": "WDauAYDZr2kv"
      },
      "source": [
        "# 입력 텍스트에 대해서 Embedding + Attention Vector, 즉 문맥 벡터를 한꺼번에 반환"
      ],
      "execution_count": null,
      "outputs": []
    },
    {
      "cell_type": "markdown",
      "metadata": {
        "id": "FXCPjlhU1-Vp"
      },
      "source": [
        "#### CLASSIFIER"
      ]
    },
    {
      "cell_type": "code",
      "metadata": {
        "colab": {
          "base_uri": "https://localhost:8080/"
        },
        "id": "xvQ_e2uB7pss",
        "outputId": "1aee9486-b6c2-43e4-c7e8-880b5a4a7f77"
      },
      "source": [
        "len(data_configs['raw_labels'][0])"
      ],
      "execution_count": 77,
      "outputs": [
        {
          "output_type": "execute_result",
          "data": {
            "text/plain": [
              "21"
            ]
          },
          "metadata": {
            "tags": []
          },
          "execution_count": 77
        }
      ]
    },
    {
      "cell_type": "code",
      "metadata": {
        "id": "cZTG-tzNsI70"
      },
      "source": [
        "class Classifier(tf.keras.Model):\n",
        "  def __init__(self, encoder, data_configs, **kwargs):\n",
        "    \"\"\"\n",
        "    @param encoder : 객체 입력\n",
        "    @param data_configs : data에 대한 정보가 dictionary의 형태로 저장\n",
        "    \"\"\"\n",
        "    super(Classifier, self).__init__()\n",
        "    self.raw_labels = data_configs['raw_labels'][0]\n",
        "    self.encoder = encoder\n",
        "    \"\"\"\n",
        "    출력 shape는 (batch_size, input_seq, d_model)\n",
        "    Dense Layer에 입력하기 위해서 Squeeze등의 과정은 불필요\n",
        "    \"\"\"\n",
        "    # shared_dense_args = {\n",
        "    #  \"units\" : , \"num_layers\" : ,\n",
        "    #   \"dropout\" : ,\n",
        "    # }\n",
        "    #self.flatten = tf.keras.layers.Flatten()\n",
        "\n",
        "    self.main_layer = [\n",
        "      tf.keras.layers.GRU(128, activation = 'relu'),\n",
        "      tf.keras.layers.Dense(units = 128, activation = 'relu'),\n",
        "      tf.keras.layers.BatchNormalization(),\n",
        "      tf.keras.layers.Dropout(0.3)\n",
        "    ]\n",
        "\n",
        "    self.fin = tf.keras.layers.Dense(len(self.raw_labels), activation = 'softmax')\n",
        "  \n",
        "  def return_logits(self, x):\n",
        "    raw_labels = data_configs['raw_labels'][0]\n",
        "    logits = []\n",
        "    x = self.encoder(x)\n",
        "    x = self.flatten(x)\n",
        "    for layer in main_layer:\n",
        "      x = layer(x)\n",
        "    for i in x:\n",
        "      answer_idx = tf.argmax(i, axis = -1)\n",
        "      logits.append(raw_labels[answer_idx])\n",
        "    \n",
        "    return logits\n",
        "\n",
        "  def call(self, x):\n",
        "    x = self.encoder(x) # (batch_size, input_seq_len, d_model)\n",
        "    #x = self.flatten(x)\n",
        "    for layers in self.main_layer:\n",
        "      x = layers(x)\n",
        "    \n",
        "    result = self.fin(x)\n",
        "    #result = self.return_logits(result)\n",
        "    \n",
        "    return result"
      ],
      "execution_count": 27,
      "outputs": []
    },
    {
      "cell_type": "code",
      "metadata": {
        "id": "NWGN0nXCMxMb"
      },
      "source": [
        "encoder = Encoder(num_layers = NUM_LAYERS, d_model = D_MODEL, num_heads = NUM_HEADS, \n",
        "                    dff = DFF, max_pos_encoding = 50, input_voca_size = data_configs['vocab_size'])"
      ],
      "execution_count": 260,
      "outputs": []
    },
    {
      "cell_type": "code",
      "metadata": {
        "id": "SL_qFPcC8QfJ"
      },
      "source": [
        "encoded = encoder(train_inputs[:256])"
      ],
      "execution_count": 261,
      "outputs": []
    },
    {
      "cell_type": "code",
      "metadata": {
        "colab": {
          "base_uri": "https://localhost:8080/"
        },
        "id": "a6j1Wvdo8VQS",
        "outputId": "ef63c468-1b14-45fa-e1be-7f54d84cc93c"
      },
      "source": [
        "main_layers = [\n",
        "      tf.keras.layers.GRU(units = 128, activation='relu'),\n",
        "      tf.keras.layers.Dense(units = 128, activation = 'relu'),\n",
        "      tf.keras.layers.BatchNormalization(),\n",
        "      tf.keras.layers.Dropout(0.3)\n",
        "    ]"
      ],
      "execution_count": 262,
      "outputs": [
        {
          "output_type": "stream",
          "text": [
            "WARNING:tensorflow:Layer gru_2 will not use cuDNN kernel since it doesn't meet the cuDNN kernel criteria. It will use generic GPU kernel as fallback when running on GPU\n"
          ],
          "name": "stdout"
        }
      ]
    },
    {
      "cell_type": "code",
      "metadata": {
        "id": "6yTQbHI-8Zyr"
      },
      "source": [
        "for layers in main_layers:\n",
        "  encoded = layers(encoded)"
      ],
      "execution_count": 263,
      "outputs": []
    },
    {
      "cell_type": "code",
      "metadata": {
        "colab": {
          "base_uri": "https://localhost:8080/"
        },
        "id": "UoZiU9QFDJTx",
        "outputId": "85b82fff-2bc8-437d-990b-8f71e006a703"
      },
      "source": [
        "encoded.shape"
      ],
      "execution_count": 264,
      "outputs": [
        {
          "output_type": "execute_result",
          "data": {
            "text/plain": [
              "TensorShape([256, 128])"
            ]
          },
          "metadata": {
            "tags": []
          },
          "execution_count": 264
        }
      ]
    },
    {
      "cell_type": "code",
      "metadata": {
        "id": "S7iCfaAH-qKN"
      },
      "source": [
        "final = tf.keras.layers.Dense(len(data_configs['raw_labels'][0]), activation = 'softmax')(encoded)"
      ],
      "execution_count": 265,
      "outputs": []
    },
    {
      "cell_type": "code",
      "metadata": {
        "id": "3TbpOaxTFR4d"
      },
      "source": [
        "for i in final:\n",
        "  print(i)"
      ],
      "execution_count": null,
      "outputs": []
    },
    {
      "cell_type": "code",
      "metadata": {
        "colab": {
          "base_uri": "https://localhost:8080/"
        },
        "id": "0cv7KBIzFGf4",
        "outputId": "a649a714-bbda-4326-e839-fca813513226"
      },
      "source": [
        "final.shape"
      ],
      "execution_count": 266,
      "outputs": [
        {
          "output_type": "execute_result",
          "data": {
            "text/plain": [
              "TensorShape([256, 21])"
            ]
          },
          "metadata": {
            "tags": []
          },
          "execution_count": 266
        }
      ]
    },
    {
      "cell_type": "code",
      "metadata": {
        "colab": {
          "base_uri": "https://localhost:8080/"
        },
        "id": "rQPBrl4qO06t",
        "outputId": "032574b8-6852-417e-e7cb-3c49da154aa3"
      },
      "source": [
        "train_labels[:256].shape"
      ],
      "execution_count": 267,
      "outputs": [
        {
          "output_type": "execute_result",
          "data": {
            "text/plain": [
              "(256, 21)"
            ]
          },
          "metadata": {
            "tags": []
          },
          "execution_count": 267
        }
      ]
    },
    {
      "cell_type": "code",
      "metadata": {
        "id": "Is1n1HQY-DRk"
      },
      "source": [
        "def return_logits(outputs):\n",
        "  raw_labels = data_configs['raw_labels'][0]\n",
        "  logits = []\n",
        "  for i in outputs:\n",
        "    print(i)\n",
        "    answer_idx = tf.argmax(i, axis = 0)\n",
        "    #print(answer_idx)\n",
        "    #idx = max(answer_idx, key=answer_idx.count)\n",
        "    #print(idx)\n",
        "    logits.append(raw_labels[answer_idx])\n",
        "    \n",
        "  return logits"
      ],
      "execution_count": 179,
      "outputs": []
    },
    {
      "cell_type": "code",
      "metadata": {
        "id": "fyZj4exoFrRj"
      },
      "source": [
        "final = list(final)"
      ],
      "execution_count": 181,
      "outputs": []
    },
    {
      "cell_type": "code",
      "metadata": {
        "colab": {
          "base_uri": "https://localhost:8080/"
        },
        "id": "hZoka2k9-GsZ",
        "outputId": "570716e4-f6ab-4561-d04d-c3b20083ac51"
      },
      "source": [
        "return_logits(final)"
      ],
      "execution_count": 165,
      "outputs": [
        {
          "output_type": "stream",
          "text": [
            "tf.Tensor(\n",
            "[0.03130624 0.17899445 0.04590456 0.04382324 0.0716906  0.02529613\n",
            " 0.01864273 0.01121982 0.02643258 0.00846736 0.08052532 0.02084855\n",
            " 0.02227136 0.01507567 0.07860367 0.04324393 0.09082501 0.01211601\n",
            " 0.08362021 0.05769816 0.03339443], shape=(21,), dtype=float32)\n",
            "tf.Tensor(\n",
            "[0.03805587 0.16940041 0.06243681 0.04728008 0.08625873 0.01965231\n",
            " 0.01648585 0.01231331 0.04065602 0.01021923 0.06504525 0.02694261\n",
            " 0.02988019 0.01728613 0.06962712 0.0542925  0.06730363 0.01164201\n",
            " 0.08043369 0.04984019 0.02494806], shape=(21,), dtype=float32)\n",
            "tf.Tensor(\n",
            "[0.0371561  0.17490067 0.03917977 0.06064582 0.0703299  0.01911815\n",
            " 0.02852098 0.01287905 0.03092325 0.00933588 0.06797173 0.02096465\n",
            " 0.02621718 0.01089798 0.12454497 0.04564887 0.07526866 0.01023965\n",
            " 0.05972012 0.054407   0.02112961], shape=(21,), dtype=float32)\n",
            "tf.Tensor(\n",
            "[0.02920912 0.12760009 0.03452265 0.05753498 0.09060568 0.01950282\n",
            " 0.02107202 0.01165418 0.02649244 0.0079189  0.05995511 0.02731727\n",
            " 0.01669222 0.02060757 0.08615103 0.03166597 0.08642924 0.01521453\n",
            " 0.11885542 0.08033343 0.0306654 ], shape=(21,), dtype=float32)\n",
            "tf.Tensor(\n",
            "[0.03900825 0.16520347 0.05825087 0.04035706 0.07301783 0.02005024\n",
            " 0.0225361  0.01054044 0.03091471 0.00673938 0.05458883 0.02080645\n",
            " 0.02159961 0.01259294 0.09079754 0.05032128 0.0980377  0.01162023\n",
            " 0.1138883  0.03608585 0.02304292], shape=(21,), dtype=float32)\n",
            "tf.Tensor(\n",
            "[0.03902476 0.17077222 0.05808725 0.04702406 0.07243118 0.01713593\n",
            " 0.01771158 0.01004687 0.02923843 0.00969809 0.05901801 0.01889226\n",
            " 0.02062777 0.01297956 0.08793162 0.05834937 0.10341845 0.01304343\n",
            " 0.07654727 0.05203483 0.02598712], shape=(21,), dtype=float32)\n",
            "tf.Tensor(\n",
            "[0.0420634  0.20654291 0.05420844 0.0474062  0.06026148 0.03453083\n",
            " 0.02490513 0.01190861 0.0352813  0.01294687 0.07079523 0.02359444\n",
            " 0.024887   0.01163799 0.08647326 0.05133898 0.05942349 0.01014826\n",
            " 0.07283985 0.0428787  0.01592759], shape=(21,), dtype=float32)\n",
            "tf.Tensor(\n",
            "[0.04424754 0.1749011  0.06482831 0.03618728 0.09072872 0.01923994\n",
            " 0.01853985 0.01179488 0.03161675 0.00901485 0.05210534 0.02278985\n",
            " 0.03044106 0.018926   0.08007693 0.05651487 0.07540909 0.01034132\n",
            " 0.08108145 0.04639051 0.02482439], shape=(21,), dtype=float32)\n",
            "tf.Tensor(\n",
            "[0.0294725  0.19041629 0.04526841 0.03534002 0.07677617 0.02526875\n",
            " 0.01831206 0.01076761 0.0266889  0.00684445 0.08266556 0.0203686\n",
            " 0.02158419 0.01168827 0.08492596 0.04607173 0.09757903 0.01258563\n",
            " 0.07185926 0.05574537 0.02977121], shape=(21,), dtype=float32)\n",
            "tf.Tensor(\n",
            "[0.04279117 0.11306037 0.05535284 0.04691472 0.07944894 0.01467851\n",
            " 0.01956617 0.01082123 0.02352442 0.01120545 0.05263109 0.01984685\n",
            " 0.03612736 0.02891695 0.11763209 0.05200121 0.09747668 0.01393242\n",
            " 0.07693628 0.05949518 0.02764012], shape=(21,), dtype=float32)\n"
          ],
          "name": "stdout"
        },
        {
          "output_type": "execute_result",
          "data": {
            "text/plain": [
              "['B', 'B', 'B', 'B', 'B', 'B', 'B', 'B', 'B', 'O']"
            ]
          },
          "metadata": {
            "tags": []
          },
          "execution_count": 165
        }
      ]
    },
    {
      "cell_type": "markdown",
      "metadata": {
        "id": "u8eOnJ8bJ_Bk"
      },
      "source": [
        "#### HYPERPARAMETER"
      ]
    },
    {
      "cell_type": "code",
      "metadata": {
        "id": "y7hkhIHsKBNU"
      },
      "source": [
        "NUM_LAYERS = 4\n",
        "D_MODEL = 30 # embedding vector의 차원과 동일\n",
        "DFF = 512\n",
        "NUM_HEADS = 30\n",
        "INPUT_VOCA_SIZE = data_configs['vocab_size']\n",
        "BATCH_SIZE = 256"
      ],
      "execution_count": 21,
      "outputs": []
    },
    {
      "cell_type": "code",
      "metadata": {
        "id": "Zrlgiza8EoZe"
      },
      "source": [
        "from sklearn.model_selection import train_test_split\n",
        "x_train, x_test, y_train, y_test = train_test_split(train_inputs, train_labels, test_size = 0.3)"
      ],
      "execution_count": 29,
      "outputs": []
    },
    {
      "cell_type": "markdown",
      "metadata": {
        "id": "kQKBqyxsJ6iZ"
      },
      "source": [
        "1. Optimizer"
      ]
    },
    {
      "cell_type": "code",
      "metadata": {
        "id": "wsSUlvxsJ6RM"
      },
      "source": [
        "optimizer = tf.keras.optimizers.Adam(learning_rate = 1e-4, beta_1 = 0.9, beta_2 = 0.98, epsilon = 10**(-9))"
      ],
      "execution_count": 22,
      "outputs": []
    },
    {
      "cell_type": "markdown",
      "metadata": {
        "id": "yQw45hAcJ9uW"
      },
      "source": [
        "2. Loss"
      ]
    },
    {
      "cell_type": "code",
      "metadata": {
        "id": "8Q9ZzNHREAkq"
      },
      "source": [
        "loss = tf.keras.losses.CategoricalCrossentropy()"
      ],
      "execution_count": 23,
      "outputs": []
    },
    {
      "cell_type": "markdown",
      "metadata": {
        "id": "PivuGA3eJWJj"
      },
      "source": [
        "3. Training and Checkpointing\n",
        "\n",
        "\n",
        "\n",
        "```\n",
        "enc_mask = create_padding_mask(input)\n",
        "```\n",
        "\n"
      ]
    },
    {
      "cell_type": "markdown",
      "metadata": {
        "id": "P_VP0KTG-BOB"
      },
      "source": [
        "1. encoder의 input에 넣어서 positional encoding과 합친 데이터를 반환하기 위해서는 x_train, 즉 텍스트 입력값의 차원을 수정할 필요가 있다.\n",
        "2. **make_batches**함수를 만든다."
      ]
    },
    {
      "cell_type": "code",
      "metadata": {
        "id": "V7udt9qvzUcH"
      },
      "source": [
        "dataset = tf.data.Dataset.from_tensor_slices(x_train[0])"
      ],
      "execution_count": null,
      "outputs": []
    },
    {
      "cell_type": "code",
      "metadata": {
        "colab": {
          "base_uri": "https://localhost:8080/"
        },
        "id": "udpXJeu4zaOR",
        "outputId": "e7c95556-6aa3-4df3-99ba-c6d8fdf42d59"
      },
      "source": [
        "dataset"
      ],
      "execution_count": null,
      "outputs": [
        {
          "output_type": "execute_result",
          "data": {
            "text/plain": [
              "<TensorSliceDataset shapes: (), types: tf.int32>"
            ]
          },
          "metadata": {
            "tags": []
          },
          "execution_count": 97
        }
      ]
    },
    {
      "cell_type": "code",
      "metadata": {
        "colab": {
          "base_uri": "https://localhost:8080/"
        },
        "id": "1rtCq4QWzbt-",
        "outputId": "9bb40c84-1a4b-4521-a59f-6d2a4dbe273a"
      },
      "source": [
        "iter = iter(dataset)\n",
        "print(next(iter).numpy(), end = ' ')"
      ],
      "execution_count": null,
      "outputs": [
        {
          "output_type": "stream",
          "text": [
            "0 "
          ],
          "name": "stdout"
        }
      ]
    },
    {
      "cell_type": "code",
      "metadata": {
        "id": "IyyHYKs2-1Or"
      },
      "source": [
        "# generator 생성\n",
        "# tf.data.Dataset.from_generator 함수를 사용하기 위해서는 iteration을 가능하게 하는 generator을 만들어야 한다.\n",
        "def get_text_data():\n",
        "  \"\"\"\n",
        "  tokenizing함수로 부터 return된 3개의 값중 tokenize된 텍스트 데이터와 label을 입력\n",
        "  \"\"\"\n",
        "  for index, seq in enumerate(train_inputs):\n",
        "    label = train_labels[index]\n",
        "  yield (seq, label)"
      ],
      "execution_count": null,
      "outputs": []
    },
    {
      "cell_type": "code",
      "metadata": {
        "colab": {
          "base_uri": "https://localhost:8080/"
        },
        "id": "ASBbjfCOF6ct",
        "outputId": "8836c494-4ddd-4452-ae10-a97383737f15"
      },
      "source": [
        "tf.expand_dims(train_inputs, axis = 1)"
      ],
      "execution_count": null,
      "outputs": [
        {
          "output_type": "execute_result",
          "data": {
            "text/plain": [
              "<tf.Tensor: shape=(1766017, 1, 30), dtype=int32, numpy=\n",
              "array([[[     0,      0,      0, ...,    535,    874,  10362]],\n",
              "\n",
              "       [[     0,      0,      0, ...,     18,    804,   1435]],\n",
              "\n",
              "       [[     0,      0,      0, ...,    807,   6749, 112032]],\n",
              "\n",
              "       ...,\n",
              "\n",
              "       [[     0,      0,      0, ...,      1,     60,     17]],\n",
              "\n",
              "       [[     0,      0,      0, ...,    390,   2694,    257]],\n",
              "\n",
              "       [[     0,      0,      0, ...,      1,     12,  14717]]],\n",
              "      dtype=int32)>"
            ]
          },
          "metadata": {
            "tags": []
          },
          "execution_count": 47
        }
      ]
    },
    {
      "cell_type": "code",
      "metadata": {
        "id": "CwkA5FgtFI5x"
      },
      "source": [
        "dataset = tf.data.Dataset.from_tensor_slices((tf.expand_dims(train_inputs, axis = 1), train_labels))"
      ],
      "execution_count": null,
      "outputs": []
    },
    {
      "cell_type": "code",
      "metadata": {
        "colab": {
          "base_uri": "https://localhost:8080/"
        },
        "id": "4MqutDWIFaBa",
        "outputId": "60e822d5-8a93-4339-b9a3-b85ce879801c"
      },
      "source": [
        "len(train_inputs)"
      ],
      "execution_count": null,
      "outputs": [
        {
          "output_type": "execute_result",
          "data": {
            "text/plain": [
              "1766017"
            ]
          },
          "metadata": {
            "tags": []
          },
          "execution_count": 39
        }
      ]
    },
    {
      "cell_type": "code",
      "metadata": {
        "colab": {
          "base_uri": "https://localhost:8080/"
        },
        "id": "i3owsIPUFWvo",
        "outputId": "211fccee-29a4-43a7-bf7b-980d743a8ccc"
      },
      "source": [
        "dataset"
      ],
      "execution_count": null,
      "outputs": [
        {
          "output_type": "execute_result",
          "data": {
            "text/plain": [
              "<TensorSliceDataset shapes: ((1, 30), (79,)), types: (tf.int32, tf.float64)>"
            ]
          },
          "metadata": {
            "tags": []
          },
          "execution_count": 49
        }
      ]
    },
    {
      "cell_type": "code",
      "metadata": {
        "colab": {
          "base_uri": "https://localhost:8080/"
        },
        "id": "uRR9E2g-Ervl",
        "outputId": "03916033-0554-48c7-a283-6855c73e1b4c"
      },
      "source": [
        "for index, seq in enumerate(train_inputs):\n",
        "  if index == 2:\n",
        "    break\n",
        "  print(seq)"
      ],
      "execution_count": null,
      "outputs": [
        {
          "output_type": "stream",
          "text": [
            "[    0     0     0     0     0     0     0     0     0     0     0     0\n",
            "     0     0     0     0     0     0     0     0     0     0     0     0\n",
            "     0    51    34   535   874 10362]\n",
            "[    0     0     0     0     0     0     0     0     0     0     0     0\n",
            "     0     0     0    37     4    29    24    10   135   244   291    55\n",
            "    37   783 19204    18   804  1435]\n"
          ],
          "name": "stdout"
        }
      ]
    },
    {
      "cell_type": "code",
      "metadata": {
        "colab": {
          "base_uri": "https://localhost:8080/"
        },
        "id": "ccUNTyQ6KFTY",
        "outputId": "567167bf-65ed-4ab4-fcbf-5440c6d8f9c5"
      },
      "source": [
        "final[0]"
      ],
      "execution_count": 215,
      "outputs": [
        {
          "output_type": "execute_result",
          "data": {
            "text/plain": [
              "<tf.Tensor: shape=(21,), dtype=float32, numpy=\n",
              "array([0.02406555, 0.05101068, 0.01432839, 0.02800913, 0.01857806,\n",
              "       0.12397765, 0.03034816, 0.00880609, 0.02755935, 0.02411857,\n",
              "       0.06885493, 0.07007739, 0.02245998, 0.02057249, 0.06878345,\n",
              "       0.03622654, 0.00939413, 0.10097334, 0.02951468, 0.07222103,\n",
              "       0.15012038], dtype=float32)>"
            ]
          },
          "metadata": {
            "tags": []
          },
          "execution_count": 215
        }
      ]
    },
    {
      "cell_type": "code",
      "metadata": {
        "colab": {
          "base_uri": "https://localhost:8080/"
        },
        "id": "ADxJPxLk343q",
        "outputId": "7085c272-bdfa-4f41-83eb-8a82afee6676"
      },
      "source": [
        "train_labels[0]"
      ],
      "execution_count": 217,
      "outputs": [
        {
          "output_type": "execute_result",
          "data": {
            "text/plain": [
              "array([0., 0., 0., 0., 0., 0., 1., 0., 0., 0., 0., 0., 0., 0., 0., 0., 0.,\n",
              "       0., 0., 0., 0.])"
            ]
          },
          "metadata": {
            "tags": []
          },
          "execution_count": 217
        }
      ]
    },
    {
      "cell_type": "code",
      "metadata": {
        "colab": {
          "base_uri": "https://localhost:8080/"
        },
        "id": "sOBD8xem000L",
        "outputId": "a592b188-b30d-4c4b-a8b1-264563da4110"
      },
      "source": [
        "train_labels.dtype"
      ],
      "execution_count": null,
      "outputs": [
        {
          "output_type": "execute_result",
          "data": {
            "text/plain": [
              "dtype('float64')"
            ]
          },
          "metadata": {
            "tags": []
          },
          "execution_count": 127
        }
      ]
    },
    {
      "cell_type": "code",
      "metadata": {
        "id": "M3wFpKOPzvQX"
      },
      "source": [
        "dataset = tf.data.Dataset.from_generator(\n",
        "    get_text_data, (tf.int32, tf.float64), (train_inputs.shape, train_labels.shape)\n",
        ")"
      ],
      "execution_count": null,
      "outputs": []
    },
    {
      "cell_type": "code",
      "metadata": {
        "colab": {
          "base_uri": "https://localhost:8080/"
        },
        "id": "lzzRiTq116AP",
        "outputId": "cbc53e6e-4728-42cc-ca7a-c32ff4821b14"
      },
      "source": [
        "print(dataset.enumerate(10))"
      ],
      "execution_count": null,
      "outputs": [
        {
          "output_type": "stream",
          "text": [
            "<ZipDataset shapes: ((), ((1766017, 30), (1766017, 79))), types: (tf.int64, (tf.int32, tf.float64))>\n"
          ],
          "name": "stdout"
        }
      ]
    },
    {
      "cell_type": "code",
      "metadata": {
        "id": "rcyjvmZq1TBa"
      },
      "source": [
        "dataset = dataset.batch(BATCH_SIZE)"
      ],
      "execution_count": null,
      "outputs": []
    },
    {
      "cell_type": "code",
      "metadata": {
        "colab": {
          "base_uri": "https://localhost:8080/"
        },
        "id": "0S8Yf7Hm1dhc",
        "outputId": "d720f0db-0eb7-42ce-b4d5-7be9f82ceff1"
      },
      "source": [
        "dataset"
      ],
      "execution_count": null,
      "outputs": [
        {
          "output_type": "execute_result",
          "data": {
            "text/plain": [
              "<BatchDataset shapes: ((None, 1766017, 30), (None, 1766017, 79)), types: (tf.int32, tf.float64)>"
            ]
          },
          "metadata": {
            "tags": []
          },
          "execution_count": 70
        }
      ]
    },
    {
      "cell_type": "code",
      "metadata": {
        "colab": {
          "base_uri": "https://localhost:8080/"
        },
        "id": "5D_YgNTTwKlP",
        "outputId": "b553afd2-bf6d-4038-e479-c58876fbf7e1"
      },
      "source": [
        "encoder"
      ],
      "execution_count": null,
      "outputs": [
        {
          "output_type": "execute_result",
          "data": {
            "text/plain": [
              "<__main__.Encoder at 0x7fa09221f910>"
            ]
          },
          "metadata": {
            "tags": []
          },
          "execution_count": 94
        }
      ]
    },
    {
      "cell_type": "code",
      "metadata": {
        "colab": {
          "base_uri": "https://localhost:8080/"
        },
        "id": "CfQ4UPBXwSA-",
        "outputId": "65c62588-6874-4512-c2ad-9a6b2e20ab50"
      },
      "source": [
        "x_train[:10].shape"
      ],
      "execution_count": null,
      "outputs": [
        {
          "output_type": "execute_result",
          "data": {
            "text/plain": [
              "(10, 30)"
            ]
          },
          "metadata": {
            "tags": []
          },
          "execution_count": 74
        }
      ]
    },
    {
      "cell_type": "code",
      "metadata": {
        "colab": {
          "base_uri": "https://localhost:8080/"
        },
        "id": "VFtT8gONDZ5I",
        "outputId": "654a259a-3dae-409c-8e9b-fe957e990e6f"
      },
      "source": [
        "tf.executing_eagerly()"
      ],
      "execution_count": null,
      "outputs": [
        {
          "output_type": "execute_result",
          "data": {
            "text/plain": [
              "True"
            ]
          },
          "metadata": {
            "tags": []
          },
          "execution_count": 73
        }
      ]
    },
    {
      "cell_type": "code",
      "metadata": {
        "colab": {
          "base_uri": "https://localhost:8080/"
        },
        "id": "FONWnsWDEIl9",
        "outputId": "ebf9a535-df57-42f7-b8ed-afe62842886c"
      },
      "source": [
        "print(dataset.take(1))"
      ],
      "execution_count": null,
      "outputs": [
        {
          "output_type": "stream",
          "text": [
            "<TakeDataset shapes: ((None, 1766017, 30), (None, 1766017, 79)), types: (tf.int32, tf.float64)>\n"
          ],
          "name": "stdout"
        }
      ]
    },
    {
      "cell_type": "code",
      "metadata": {
        "id": "p-p2mIBCHTXN"
      },
      "source": [
        "enc = Encoder(num_layers = NUM_LAYERS, d_model = D_MODEL, num_heads = NUM_HEADS, \n",
        "              dff = DFF, max_pos_encoding = 50, input_voca_size = data_configs['vocab_size'])"
      ],
      "execution_count": null,
      "outputs": []
    },
    {
      "cell_type": "code",
      "metadata": {
        "id": "WVJfvIx6M1Zl"
      },
      "source": [
        "data = tf.data.Dataset.from_tensor_slices((train_inputs, train_labels))"
      ],
      "execution_count": null,
      "outputs": []
    },
    {
      "cell_type": "code",
      "metadata": {
        "colab": {
          "base_uri": "https://localhost:8080/"
        },
        "id": "YpYWOVKJM6wz",
        "outputId": "362492ea-2b1a-4ba1-8859-4c0734a54cdc"
      },
      "source": [
        "data"
      ],
      "execution_count": null,
      "outputs": [
        {
          "output_type": "execute_result",
          "data": {
            "text/plain": [
              "<TensorSliceDataset shapes: ((30,), (79,)), types: (tf.int32, tf.float64)>"
            ]
          },
          "metadata": {
            "tags": []
          },
          "execution_count": 81
        }
      ]
    },
    {
      "cell_type": "code",
      "metadata": {
        "id": "1oirNwM2Mgxr"
      },
      "source": [
        "def load_dataset(train_inputs, train_labels):\n",
        "  files_ds = tf.data.Dataset.from_tensor_slices((train_inputs, train_labels))\n",
        "\n",
        "  # Load waveforms\n",
        "  dataset = files_ds.map(\n",
        "  lambda x: tf.numpy_function(\n",
        "    func=lambda y: np.array(y),\n",
        "    inp=[x],\n",
        "    Tout=tf.float32,\n",
        "  )\n",
        "  )\n",
        "  return dataset"
      ],
      "execution_count": null,
      "outputs": []
    },
    {
      "cell_type": "code",
      "metadata": {
        "id": "038Voy7RNHJx"
      },
      "source": [
        "load_dataset(train_inputs, train_labels)"
      ],
      "execution_count": null,
      "outputs": []
    },
    {
      "cell_type": "code",
      "metadata": {
        "id": "hzz0s5cz8FU1"
      },
      "source": [
        "encoder(train_inputs[:10])"
      ],
      "execution_count": null,
      "outputs": []
    },
    {
      "cell_type": "code",
      "metadata": {
        "colab": {
          "base_uri": "https://localhost:8080/"
        },
        "id": "09hQdeBBJdwY",
        "outputId": "f567562a-430c-44ad-8e27-530419c05f4c"
      },
      "source": [
        "len(train_labels[0])"
      ],
      "execution_count": 211,
      "outputs": [
        {
          "output_type": "execute_result",
          "data": {
            "text/plain": [
              "21"
            ]
          },
          "metadata": {
            "tags": []
          },
          "execution_count": 211
        }
      ]
    },
    {
      "cell_type": "code",
      "metadata": {
        "colab": {
          "base_uri": "https://localhost:8080/"
        },
        "id": "XD76N6_P8JYe",
        "outputId": "5e9e3822-3218-4be2-8e21-f2554bd5da0b"
      },
      "source": [
        "len(data_configs['raw_labels'][0])"
      ],
      "execution_count": 212,
      "outputs": [
        {
          "output_type": "execute_result",
          "data": {
            "text/plain": [
              "21"
            ]
          },
          "metadata": {
            "tags": []
          },
          "execution_count": 212
        }
      ]
    },
    {
      "cell_type": "markdown",
      "metadata": {
        "id": "_S3vrTSAQY_O"
      },
      "source": [
        "\n",
        "```\n",
        "loss = tf.keras.losses.CategoricalCrossentropy()\n",
        "optimizer = tf.keras.optimizers.Adam(learning_rate = 1e-4, beta_1 = 0.9, beta_2 = 0.98, epsilon = 10**(-9))\n",
        "```\n",
        "\n"
      ]
    },
    {
      "cell_type": "code",
      "metadata": {
        "id": "d8Qkp9oNJ00o"
      },
      "source": [
        "with tf.device('/device:GPU:0'):\n",
        "  encoder = Encoder(num_layers = NUM_LAYERS, d_model = D_MODEL, num_heads = NUM_HEADS, \n",
        "                    dff = DFF, max_pos_encoding = 50, input_voca_size = data_configs['vocab_size'])\n",
        "  Model = Classifier(encoder, data_configs)\n",
        "  Model.compile(optimizer = optimizer, loss = loss, metrics = ['accuracy'])\n",
        "  history = Model.fit(x_train, y_train,  validation_split = 0.2, epochs = 10,  batch_size = BATCH_SIZE)"
      ],
      "execution_count": null,
      "outputs": []
    },
    {
      "cell_type": "code",
      "metadata": {
        "id": "VR-mjnLzoL-K"
      },
      "source": [
        "def train(modelname, x, y, epoch, val_split = 0.2):\n",
        "  def load_model(model_name):\n",
        "    model_path = os.path.join(modelpath, str(model_name))\n",
        "    model_A = tf.keras.models.load_model(model_path)\n",
        "\n",
        "    return model_A\n",
        "  model = load_model(modelname)\n",
        "  history = model.fit(x, y, validation_split = val_split, epochs = epoch, batch_size = BATCH_SIZE)\n",
        "  \n",
        "  return history\n",
        "\n"
      ],
      "execution_count": 50,
      "outputs": []
    },
    {
      "cell_type": "code",
      "metadata": {
        "colab": {
          "base_uri": "https://localhost:8080/"
        },
        "id": "F2NPqLampKK1",
        "outputId": "f2255939-39c6-4935-ab83-896b2f36b648"
      },
      "source": [
        "history = train('Model_B', x_train, y_train, 10, 0.2)"
      ],
      "execution_count": null,
      "outputs": [
        {
          "output_type": "stream",
          "text": [
            "WARNING:tensorflow:Layer gru_3 will not use cuDNN kernel since it doesn't meet the cuDNN kernel criteria. It will use generic GPU kernel as fallback when running on GPU\n"
          ],
          "name": "stdout"
        },
        {
          "output_type": "stream",
          "text": [
            "WARNING:tensorflow:Layer gru_3 will not use cuDNN kernel since it doesn't meet the cuDNN kernel criteria. It will use generic GPU kernel as fallback when running on GPU\n"
          ],
          "name": "stderr"
        },
        {
          "output_type": "stream",
          "text": [
            "2589/3864 [===================>..........] - ETA: 5:16 - loss: 1.5441 - accuracy: 0.6016"
          ],
          "name": "stdout"
        }
      ]
    },
    {
      "cell_type": "code",
      "metadata": {
        "id": "_wUlhjVhlpYp"
      },
      "source": [
        "import matplotlib.pyplot as plt\n",
        "def merge_plot(history):\n",
        "  fig, loss_ax = plt.subplots()\n",
        "  acc_ax = loss_ax.twinx()\n",
        "\n",
        "  loss_ax.plot(history.history['loss'], 'y', label  = 'loss')\n",
        "  loss_ax.plot(history.history['val_loss'], 'r', label = 'val_loss')\n",
        "  loss_ax.set_xlabel('epoch')\n",
        "  loss_ax.set_ylabel('loss')\n",
        "  loss_ax.legend(loc = 'upper left')\n",
        "\n",
        "  acc_ax .plot(history.history['accuracy'], 'b', label = 'accuracy')\n",
        "  acc_ax.plot(history.history['val_accuracy'], 'g', label = 'val_accuracy')\n",
        "  acc_ax.set_ylabel('accuracy')\n",
        "  acc_ax.legend(loc = 'upper left')"
      ],
      "execution_count": 44,
      "outputs": []
    },
    {
      "cell_type": "code",
      "metadata": {
        "colab": {
          "base_uri": "https://localhost:8080/",
          "height": 283
        },
        "id": "EON6TNxxncxS",
        "outputId": "0517eff8-6112-48d3-a77d-2ee28e81ed5f"
      },
      "source": [
        "merge_plot(history)"
      ],
      "execution_count": 45,
      "outputs": [
        {
          "output_type": "display_data",
          "data": {
            "image/png": "[encoded data removed]",
            "text/plain": [
              "<Figure size 432x288 with 2 Axes>"
            ]
          },
          "metadata": {
            "tags": [],
            "needs_background": "light"
          }
        }
      ]
    },
    {
      "cell_type": "code",
      "metadata": {
        "colab": {
          "base_uri": "https://localhost:8080/"
        },
        "id": "_fs8T_i9mPxV",
        "outputId": "73851f19-7d3b-4f61-a0c7-60a6b74cff4e"
      },
      "source": [
        "Model.evaluate(x_test, y_test)"
      ],
      "execution_count": 36,
      "outputs": [
        {
          "output_type": "stream",
          "text": [
            "16557/16557 [==============================] - 253s 15ms/step - loss: 1.6006 - accuracy: 0.5908\n"
          ],
          "name": "stdout"
        },
        {
          "output_type": "execute_result",
          "data": {
            "text/plain": [
              "[1.6006217002868652, 0.5908275842666626]"
            ]
          },
          "metadata": {
            "tags": []
          },
          "execution_count": 36
        }
      ]
    },
    {
      "cell_type": "markdown",
      "metadata": {
        "id": "OtNG038o-k1u"
      },
      "source": [
        "1. 대분류 예측기 저장"
      ]
    },
    {
      "cell_type": "code",
      "metadata": {
        "id": "i28Q278w9fTp",
        "colab": {
          "base_uri": "https://localhost:8080/"
        },
        "outputId": "8aaa46cf-9052-4f8f-c7f4-c83111ec148e"
      },
      "source": [
        "import os\n",
        "modelpath = '/content/drive/MyDrive/KEDxBOAZMY/MODELS'\n",
        "Model.save(os.path.join(modelpath, 'Model_A'))"
      ],
      "execution_count": 275,
      "outputs": [
        {
          "output_type": "stream",
          "text": [
            "WARNING:absl:Found untraced functions such as embedding_30_layer_call_and_return_conditional_losses, embedding_30_layer_call_fn, dropout_319_layer_call_and_return_conditional_losses, dropout_319_layer_call_fn, embedding_30_layer_call_fn while saving (showing 5 of 210). These functions will not be directly callable after loading.\n",
            "WARNING:absl:Found untraced functions such as embedding_30_layer_call_and_return_conditional_losses, embedding_30_layer_call_fn, dropout_319_layer_call_and_return_conditional_losses, dropout_319_layer_call_fn, embedding_30_layer_call_fn while saving (showing 5 of 210). These functions will not be directly callable after loading.\n"
          ],
          "name": "stderr"
        },
        {
          "output_type": "stream",
          "text": [
            "INFO:tensorflow:Assets written to: /content/drive/MyDrive/KEDxBOAZMY/MODELS/Model_A/assets\n"
          ],
          "name": "stdout"
        },
        {
          "output_type": "stream",
          "text": [
            "INFO:tensorflow:Assets written to: /content/drive/MyDrive/KEDxBOAZMY/MODELS/Model_A/assets\n"
          ],
          "name": "stderr"
        }
      ]
    },
    {
      "cell_type": "markdown",
      "metadata": {
        "id": "_9WIRfgA-nhQ"
      },
      "source": [
        "2. 중분류 예측기 저장"
      ]
    },
    {
      "cell_type": "code",
      "metadata": {
        "id": "cpqgG2VrNxem",
        "colab": {
          "base_uri": "https://localhost:8080/"
        },
        "outputId": "afffb3e8-e742-4dfb-acb0-31514513ef27"
      },
      "source": [
        "import os\n",
        "modelpath = '/content/drive/MyDrive/KEDxBOAZMY/MODELS'\n",
        "Model.save(os.path.join(modelpath, 'Model_B'))"
      ],
      "execution_count": 37,
      "outputs": [
        {
          "output_type": "stream",
          "text": [
            "WARNING:absl:Found untraced functions such as embedding_3_layer_call_fn, embedding_3_layer_call_and_return_conditional_losses, dropout_38_layer_call_fn, dropout_38_layer_call_and_return_conditional_losses, embedding_3_layer_call_fn while saving (showing 5 of 210). These functions will not be directly callable after loading.\n",
            "WARNING:absl:Found untraced functions such as embedding_3_layer_call_fn, embedding_3_layer_call_and_return_conditional_losses, dropout_38_layer_call_fn, dropout_38_layer_call_and_return_conditional_losses, embedding_3_layer_call_fn while saving (showing 5 of 210). These functions will not be directly callable after loading.\n"
          ],
          "name": "stderr"
        },
        {
          "output_type": "stream",
          "text": [
            "INFO:tensorflow:Assets written to: /content/drive/MyDrive/KEDxBOAZMY/MODELS/Model_B/assets\n"
          ],
          "name": "stdout"
        },
        {
          "output_type": "stream",
          "text": [
            "INFO:tensorflow:Assets written to: /content/drive/MyDrive/KEDxBOAZMY/MODELS/Model_B/assets\n"
          ],
          "name": "stderr"
        }
      ]
    },
    {
      "cell_type": "markdown",
      "metadata": {
        "id": "Ox62-7aD-svB"
      },
      "source": [
        "3. 소분류 예측기 저장"
      ]
    },
    {
      "cell_type": "code",
      "metadata": {
        "id": "btIhUUJe-xVa"
      },
      "source": [
        "import os\n",
        "modelpath = '/content/drive/MyDrive/KEDxBOAZMY/MODELS'\n",
        "Model.save(os.path.join(modelpath, 'Model_C'))"
      ],
      "execution_count": null,
      "outputs": []
    },
    {
      "cell_type": "markdown",
      "metadata": {
        "id": "Sn7xlcUL-zaa"
      },
      "source": [
        "4. 세분류 예측기 저장"
      ]
    },
    {
      "cell_type": "code",
      "metadata": {
        "id": "lFprxKsH-2rr"
      },
      "source": [
        "import os\n",
        "modelpath = '/content/drive/MyDrive/KEDxBOAZMY/MODELS'\n",
        "Model.save(os.path.join(modelpath, 'Model_D'))"
      ],
      "execution_count": null,
      "outputs": []
    },
    {
      "cell_type": "markdown",
      "metadata": {
        "id": "4bCeR5za5Gwr"
      },
      "source": [
        "4. Test Data에 대한 예측 도출"
      ]
    },
    {
      "cell_type": "code",
      "metadata": {
        "id": "tGj4uLqzJc9o"
      },
      "source": [
        "import tensorflow as tf\n",
        "import numpy as np\n",
        "import pandas as pd\n",
        "import os\n",
        "\n",
        "modelpath = '/content/drive/MyDrive/KEDxBOAZMY/MODELS'\n",
        "def load_model(model_name):\n",
        "  model_path = os.path.join(modelpath, str(model_name))\n",
        "  model_A = tf.keras.models.load_model(model_path)\n",
        "\n",
        "  return model_A"
      ],
      "execution_count": 6,
      "outputs": []
    },
    {
      "cell_type": "code",
      "metadata": {
        "colab": {
          "base_uri": "https://localhost:8080/"
        },
        "id": "QS5E1EHw5LQP",
        "outputId": "db1513c8-8f9c-4da5-e03a-372cbae32ca1"
      },
      "source": [
        "Model_A = load_model('Model_A')"
      ],
      "execution_count": 7,
      "outputs": [
        {
          "output_type": "stream",
          "text": [
            "WARNING:tensorflow:Layer gru_6 will not use cuDNN kernel since it doesn't meet the cuDNN kernel criteria. It will use generic GPU kernel as fallback when running on GPU\n"
          ],
          "name": "stdout"
        }
      ]
    },
    {
      "cell_type": "code",
      "metadata": {
        "colab": {
          "base_uri": "https://localhost:8080/"
        },
        "id": "jlpT3s8M5diG",
        "outputId": "214ade93-3dc0-47ee-f14f-492955bd8ee8"
      },
      "source": [
        "Model_A.summary()"
      ],
      "execution_count": 8,
      "outputs": [
        {
          "output_type": "stream",
          "text": [
            "Model: \"classifier_25\"\n",
            "_________________________________________________________________\n",
            "Layer (type)                 Output Shape              Param #   \n",
            "=================================================================\n",
            "encoder_28 (Encoder)         multiple                  32935268  \n",
            "_________________________________________________________________\n",
            "gru_6 (GRU)                  multiple                  61440     \n",
            "_________________________________________________________________\n",
            "dense_837 (Dense)            multiple                  16512     \n",
            "_________________________________________________________________\n",
            "batch_normalization_34 (Batc multiple                  512       \n",
            "_________________________________________________________________\n",
            "dropout_320 (Dropout)        multiple                  0         \n",
            "_________________________________________________________________\n",
            "dense_838 (Dense)            multiple                  2709      \n",
            "=================================================================\n",
            "Total params: 33,016,441\n",
            "Trainable params: 33,016,185\n",
            "Non-trainable params: 256\n",
            "_________________________________________________________________\n"
          ],
          "name": "stdout"
        }
      ]
    },
    {
      "cell_type": "code",
      "metadata": {
        "id": "H8jjQZsz979e"
      },
      "source": [
        "Model_A."
      ],
      "execution_count": null,
      "outputs": []
    },
    {
      "cell_type": "markdown",
      "metadata": {
        "id": "GhbYZRyoN8u4"
      },
      "source": [
        "###..............................................................."
      ]
    },
    {
      "cell_type": "code",
      "metadata": {
        "id": "wocEPHZUOoT_"
      },
      "source": [
        "from tensorflow.keras import layers"
      ],
      "execution_count": null,
      "outputs": []
    },
    {
      "cell_type": "code",
      "metadata": {
        "id": "ZDamMmtVN-f4"
      },
      "source": [
        "class CNNClassifier(tf.keras.Model):\n",
        "  def __init__(self, **kargs):\n",
        "    super(CNNClassifier, self).__init__(name = kargs['model_name'])\n",
        "    self.embedding = layers.Embedding(input_dim = kargs['vocab_size'],\n",
        "                                      output_dim = kargs['embedding_size'],\n",
        "                                      )\n",
        "    self.conv_list = [layers.Conv1D(filters = kargs['num_filters'], kernel_size = kernel_size,\n",
        "                                    strides = 1, padding = 'valid',\n",
        "                                    activation = tf.keras.activations.relu, \n",
        "                                    kernel_constraint = tf.keras.constraints.MaxNorm(max_value=3.))\n",
        "    for kernel_size in [3,4,5]]\n",
        "    self.pooling = layers.GlobalMaxPooling1D()\n",
        "    self.dropout = layers.Dropout(kargs['dropout_rate'])\n",
        "\n",
        "    self.fc1 = layers.Dense(units = kargs['hidden_dimension'],\n",
        "                                          activation = tf.keras.activations.relu,\n",
        "                                          kernel_constraint = tf.keras.constraints.MaxNorm(max_value = 3.))\n",
        "    self.fc2 = layers.Dense(units = kargs['output_dimension'],\n",
        "                            activation = tf.keras.activations.softmax,\n",
        "                            kernel_constraint = tf.keras.constraints.MaxNorm(max_value = 3.))\n",
        "  \n",
        "  def call(self, x):\n",
        "    x = self.embedding(x)\n",
        "    x = self.dropout(x)\n",
        "    x = tf.concat([self.pooling(conv(x)) for conv in self.conv_list], axis = 1)\n",
        "    x = self.fc1(x)\n",
        "    x = self.fc2(x)\n",
        "\n",
        "    return x\n"
      ],
      "execution_count": null,
      "outputs": []
    },
    {
      "cell_type": "code",
      "metadata": {
        "colab": {
          "base_uri": "https://localhost:8080/"
        },
        "id": "5cdvN2TZOEvi",
        "outputId": "ff3e1f3c-b5a9-40ed-9bb8-aa5bbe36407b"
      },
      "source": [
        "kargs = {'model_name' : \"CNN\",\n",
        "         'vocab_size' : data_configs['vocab_size'],\n",
        "         'embedding_size' : 128,\n",
        "         'num_filters' : 100,\n",
        "         'dropout_rate' : 0.4,\n",
        "         'hidden_dimension' : 250,\n",
        "         'output_dimension' : 79}         \n",
        "\n",
        "model = CNNClassifier(**kargs)\n",
        "\n",
        "model.compile(\n",
        "    optimizer = tf.keras.optimizers.Adam(),\n",
        "    loss = tf.keras.losses.CategoricalCrossentropy(),\n",
        "    metrics = [tf.keras.metrics.CategoricalAccuracy(name = 'accuracy')]\n",
        ")\n",
        "\n",
        "from tensorflow.keras.callbacks import EarlyStopping\n",
        "earlystop_callback = EarlyStopping(monitor = 'val_accuracy', min_delta = 0.001, patience = 3)\n",
        "\n",
        "#checkpoint_path = DATA_PATH + model_name + '/weights.h5'\n",
        "#checkpoint_dir = os.path.dirname(checkpoint_path)\n",
        "\n",
        "#cp_callback = ModelCheckpoint(\n",
        "    #checkpoint_path, monitor = 'val_accuracy', verbose = 1,\n",
        "    #save_best_only = True, save_weights_only = True)\n",
        "\n",
        "history = model.fit(train_inputs, train_labels, batch_size = BATCH_SIZE, epochs = 20,\n",
        "                    validation_split = 0.2, callbacks = [earlystop_callback])"
      ],
      "execution_count": null,
      "outputs": [
        {
          "output_type": "stream",
          "text": [
            "Epoch 1/20\n",
            "2854/5519 [==============>...............] - ETA: 30:34 - loss: 2.2498 - accuracy: 0.4451"
          ],
          "name": "stdout"
        }
      ]
    },
    {
      "cell_type": "code",
      "metadata": {
        "id": "Uef6Ux-wOXpk"
      },
      "source": [
        ""
      ],
      "execution_count": null,
      "outputs": []
    }
  ]
}